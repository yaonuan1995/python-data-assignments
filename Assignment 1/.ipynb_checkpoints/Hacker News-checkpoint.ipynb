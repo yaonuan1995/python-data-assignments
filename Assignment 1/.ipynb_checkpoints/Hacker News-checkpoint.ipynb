{
 "cells": [
  {
   "cell_type": "markdown",
   "metadata": {},
   "source": [
    "## Goal: get post title, link, points (a.k.a. \"likes\") from the website ##"
   ]
  },
  {
   "cell_type": "code",
   "execution_count": 3,
   "metadata": {},
   "outputs": [],
   "source": [
    "import requests"
   ]
  },
  {
   "cell_type": "code",
   "execution_count": 4,
   "metadata": {},
   "outputs": [],
   "source": [
    "r = requests.get('https://news.ycombinator.com/')"
   ]
  },
  {
   "cell_type": "code",
   "execution_count": 5,
   "metadata": {},
   "outputs": [
    {
     "data": {
      "text/plain": [
       "'<html op=\"news\"><head><meta name=\"referrer\" content=\"origin\"><meta name=\"viewport\" content=\"width=device-width, initial-scale=1.0\"><link rel=\"stylesheet\" type=\"text/css\" href=\"news.css?ZgWrjiWrXzuQqi1Trwyl\">\\n            <link rel=\"shortcut icon\" href=\"favicon.ico\">\\n          <link rel=\"alternate\" type=\"application/rss+xml\" title=\"RSS\" href=\"rss\">\\n        <title>Hacker News</title></head><body><center><table id=\"hnmain\" border=\"0\" cellpadding=\"0\" cellspacing=\"0\" width=\"85%\" bgcolor=\"#f6f6ef\">\\n        <tr><td bgcolor=\"#ff6600\"><table border=\"0\" cellpadding=\"0\" cellspacing=\"0\" width=\"100%\" style=\"padding:2px\"><tr><td style=\"width:18px;padding-right:4px\"><a href=\"https://news.ycombinator.com\"><img src=\"y18.gif\" width=\"18\" height=\"18\" style=\"border:1px white solid;\"></a></td>\\n                  <td style=\"line-height:12pt; height:10px;\"><span class=\"pagetop\"><b class=\"hnname\"><a href=\"news\">Hacker News</a></b>\\n              <a href=\"newest\">new</a> | <a href=\"newcomments\">comments</a> | <a href=\"show\">show</a> | <a href=\"ask\">ask</a> | <a href=\"jobs\">jobs</a> | <a href=\"submit\">submit</a>            </span></td><td style=\"text-align:right;padding-right:4px;\"><span class=\"pagetop\">\\n                              <a href=\"login?goto=news\">login</a>\\n                          </span></td>\\n              </tr></table></td></tr>\\n<tr style=\"height:10px\"></tr><tr><td><table border=\"0\" cellpadding=\"0\" cellspacing=\"0\" class=\"itemlist\">\\n              <tr class=\\'athing\\' id=\\'18353874\\'>\\n      <td align=\"right\" valign=\"top\" class=\"title\"><span class=\"rank\">1.</span></td>      <td valign=\"top\" class=\"votelinks\"><center><a id=\\'up_18353874\\' href=\\'vote?id=18353874&amp;how=up&amp;goto=news\\'><div class=\\'votearrow\\' title=\\'upvote\\'></div></a></center></td><td class=\"title\"><a href=\"http://cryto.net/~joepie91/blog/2016/06/13/stop-using-jwt-for-sessions/\" class=\"storylink\">Stop using JWT for sessions (2016)</a><span class=\"sitebit comhead\"> (<a href=\"from?site=cryto.net\"><span class=\"sitestr\">cryto.net</span></a>)</span></td></tr><tr><td colspan=\"2\"></td><td class=\"subtext\">\\n        <span class=\"score\" id=\"score_18353874\">129 points</span> by <a href=\"user?id=enraged_camel\" class=\"hnuser\">enraged_camel</a> <span class=\"age\"><a href=\"item?id=18353874\">1 hour ago</a></span> <span id=\"unv_18353874\"></span> | <a href=\"hide?id=18353874&amp;goto=news\">hide</a> | <a href=\"item?id=18353874\">92&nbsp;comments</a>              </td></tr>\\n      <tr class=\"spacer\" style=\"height:5px\"></tr>\\n                <tr class=\\'athing\\' id=\\'18353425\\'>\\n      <td align=\"right\" valign=\"top\" class=\"title\"><span class=\"rank\">2.</span></td>      <td valign=\"top\" class=\"votelinks\"><center><a id=\\'up_18353425\\' href=\\'vote?id=18353425&amp;how=up&amp;goto=news\\'><div class=\\'votearrow\\' title=\\'upvote\\'></div></a></center></td><td class=\"title\"><a href=\"https://www.reuters.com/article/us-technology-www/father-of-web-says-tech-giants-may-have-to-be-split-up-idUSKCN1N63MV\" class=\"storylink\">Father of Web says tech giants may have to be split up</a><span class=\"sitebit comhead\"> (<a href=\"from?site=reuters.com\"><span class=\"sitestr\">reuters.com</span></a>)</span></td></tr><tr><td colspan=\"2\"></td><td class=\"subtext\">\\n        <span class=\"score\" id=\"score_18353425\">128 points</span> by <a href=\"user?id=adventured\" class=\"hnuser\">adventured</a> <span class=\"age\"><a href=\"item?id=18353425\">2 hours ago</a></span> <span id=\"unv_18353425\"></span> | <a href=\"hide?id=18353425&amp;goto=news\">hide</a> | <a href=\"item?id=18353425\">121&nbsp;comments</a>              </td></tr>\\n      <tr class=\"spacer\" style=\"height:5px\"></tr>\\n                <tr class=\\'athing\\' id=\\'18354066\\'>\\n      <td align=\"right\" valign=\"top\" class=\"title\"><span class=\"rank\">3.</span></td>      <td valign=\"top\" class=\"votelinks\"><center><a id=\\'up_18354066\\' href=\\'vote?id=18354066&amp;how=up&amp;goto=news\\'><div class=\\'votearrow\\' title=\\'upvote\\'></div></a></center></td><td class=\"title\"><a href=\"https://blog.flickr.net/en/2018/11/01/changing-flickr-free-accounts-1000-photos/\" class=\"storylink\">Why we’re changing Flickr free accounts</a><span class=\"sitebit comhead\"> (<a href=\"from?site=flickr.net\"><span class=\"sitestr\">flickr.net</span></a>)</span></td></tr><tr><td colspan=\"2\"></td><td class=\"subtext\">\\n        <span class=\"score\" id=\"score_18354066\">68 points</span> by <a href=\"user?id=renchap\" class=\"hnuser\">renchap</a> <span class=\"age\"><a href=\"item?id=18354066\">1 hour ago</a></span> <span id=\"unv_18354066\"></span> | <a href=\"hide?id=18354066&amp;goto=news\">hide</a> | <a href=\"item?id=18354066\">48&nbsp;comments</a>              </td></tr>\\n      <tr class=\"spacer\" style=\"height:5px\"></tr>\\n                <tr class=\\'athing\\' id=\\'18351891\\'>\\n      <td align=\"right\" valign=\"top\" class=\"title\"><span class=\"rank\">4.</span></td>      <td valign=\"top\" class=\"votelinks\"><center><a id=\\'up_18351891\\' href=\\'vote?id=18351891&amp;how=up&amp;goto=news\\'><div class=\\'votearrow\\' title=\\'upvote\\'></div></a></center></td><td class=\"title\"><a href=\"https://www.pipelinedb.com/blog/three-sales-mistakes-software-engineers-make\" class=\"storylink\">Sales mistakes that software engineers make</a><span class=\"sitebit comhead\"> (<a href=\"from?site=pipelinedb.com\"><span class=\"sitestr\">pipelinedb.com</span></a>)</span></td></tr><tr><td colspan=\"2\"></td><td class=\"subtext\">\\n        <span class=\"score\" id=\"score_18351891\">366 points</span> by <a href=\"user?id=Fergi\" class=\"hnuser\">Fergi</a> <span class=\"age\"><a href=\"item?id=18351891\">8 hours ago</a></span> <span id=\"unv_18351891\"></span> | <a href=\"hide?id=18351891&amp;goto=news\">hide</a> | <a href=\"item?id=18351891\">125&nbsp;comments</a>              </td></tr>\\n      <tr class=\"spacer\" style=\"height:5px\"></tr>\\n                <tr class=\\'athing\\' id=\\'18354503\\'>\\n      <td align=\"right\" valign=\"top\" class=\"title\"><span class=\"rank\">5.</span></td>      <td valign=\"top\" class=\"votelinks\"><center><a id=\\'up_18354503\\' href=\\'vote?id=18354503&amp;how=up&amp;goto=news\\'><div class=\\'votearrow\\' title=\\'upvote\\'></div></a></center></td><td class=\"title\"><a href=\"item?id=18354503\" class=\"storylink\">Ask HN: Who is hiring? (November 2018)</a></td></tr><tr><td colspan=\"2\"></td><td class=\"subtext\">\\n        <span class=\"score\" id=\"score_18354503\">30 points</span> by <a href=\"user?id=whoishiring\" class=\"hnuser\">whoishiring</a> <span class=\"age\"><a href=\"item?id=18354503\">25 minutes ago</a></span> <span id=\"unv_18354503\"></span> | <a href=\"hide?id=18354503&amp;goto=news\">hide</a> | <a href=\"item?id=18354503\">47&nbsp;comments</a>              </td></tr>\\n      <tr class=\"spacer\" style=\"height:5px\"></tr>\\n                <tr class=\\'athing\\' id=\\'18352490\\'>\\n      <td align=\"right\" valign=\"top\" class=\"title\"><span class=\"rank\">6.</span></td>      <td valign=\"top\" class=\"votelinks\"><center><a id=\\'up_18352490\\' href=\\'vote?id=18352490&amp;how=up&amp;goto=news\\'><div class=\\'votearrow\\' title=\\'upvote\\'></div></a></center></td><td class=\"title\"><a href=\"https://www.vuedarkmode.com/\" class=\"storylink\">Show HN: Vue Dark Mode – A Minimalist Dark Design System for Vue.js</a><span class=\"sitebit comhead\"> (<a href=\"from?site=vuedarkmode.com\"><span class=\"sitestr\">vuedarkmode.com</span></a>)</span></td></tr><tr><td colspan=\"2\"></td><td class=\"subtext\">\\n        <span class=\"score\" id=\"score_18352490\">86 points</span> by <a href=\"user?id=LeCoupa\" class=\"hnuser\">LeCoupa</a> <span class=\"age\"><a href=\"item?id=18352490\">5 hours ago</a></span> <span id=\"unv_18352490\"></span> | <a href=\"hide?id=18352490&amp;goto=news\">hide</a> | <a href=\"item?id=18352490\">27&nbsp;comments</a>              </td></tr>\\n      <tr class=\"spacer\" style=\"height:5px\"></tr>\\n                <tr class=\\'athing\\' id=\\'18352754\\'>\\n      <td align=\"right\" valign=\"top\" class=\"title\"><span class=\"rank\">7.</span></td>      <td valign=\"top\" class=\"votelinks\"><center><a id=\\'up_18352754\\' href=\\'vote?id=18352754&amp;how=up&amp;goto=news\\'><div class=\\'votearrow\\' title=\\'upvote\\'></div></a></center></td><td class=\"title\"><a href=\"https://techcrunch.com/2018/11/01/neo4j-nabs-80m-series-e-as-graph-database-tech-matures/\" class=\"storylink\">Neo4j nabs $80M Series E as graph database tech flourishes</a><span class=\"sitebit comhead\"> (<a href=\"from?site=techcrunch.com\"><span class=\"sitestr\">techcrunch.com</span></a>)</span></td></tr><tr><td colspan=\"2\"></td><td class=\"subtext\">\\n        <span class=\"score\" id=\"score_18352754\">128 points</span> by <a href=\"user?id=jexp\" class=\"hnuser\">jexp</a> <span class=\"age\"><a href=\"item?id=18352754\">4 hours ago</a></span> <span id=\"unv_18352754\"></span> | <a href=\"hide?id=18352754&amp;goto=news\">hide</a> | <a href=\"item?id=18352754\">63&nbsp;comments</a>              </td></tr>\\n      <tr class=\"spacer\" style=\"height:5px\"></tr>\\n                <tr class=\\'athing\\' id=\\'18344033\\'>\\n      <td align=\"right\" valign=\"top\" class=\"title\"><span class=\"rank\">8.</span></td>      <td valign=\"top\" class=\"votelinks\"><center><a id=\\'up_18344033\\' href=\\'vote?id=18344033&amp;how=up&amp;goto=news\\'><div class=\\'votearrow\\' title=\\'upvote\\'></div></a></center></td><td class=\"title\"><a href=\"https://www.silasreinagel.com/blog/2018/10/30/indirection-is-not-abstraction/\" class=\"storylink\">Indirection Is Not Abstraction</a><span class=\"sitebit comhead\"> (<a href=\"from?site=silasreinagel.com\"><span class=\"sitestr\">silasreinagel.com</span></a>)</span></td></tr><tr><td colspan=\"2\"></td><td class=\"subtext\">\\n        <span class=\"score\" id=\"score_18344033\">18 points</span> by <a href=\"user?id=yegor256a\" class=\"hnuser\">yegor256a</a> <span class=\"age\"><a href=\"item?id=18344033\">2 hours ago</a></span> <span id=\"unv_18344033\"></span> | <a href=\"hide?id=18344033&amp;goto=news\">hide</a> | <a href=\"item?id=18344033\">discuss</a>              </td></tr>\\n      <tr class=\"spacer\" style=\"height:5px\"></tr>\\n                <tr class=\\'athing\\' id=\\'18344636\\'>\\n      <td align=\"right\" valign=\"top\" class=\"title\"><span class=\"rank\">9.</span></td>      <td valign=\"top\" class=\"votelinks\"><center><a id=\\'up_18344636\\' href=\\'vote?id=18344636&amp;how=up&amp;goto=news\\'><div class=\\'votearrow\\' title=\\'upvote\\'></div></a></center></td><td class=\"title\"><a href=\"http://www.solarfoods.fi/\" class=\"storylink\">Solar foods</a><span class=\"sitebit comhead\"> (<a href=\"from?site=solarfoods.fi\"><span class=\"sitestr\">solarfoods.fi</span></a>)</span></td></tr><tr><td colspan=\"2\"></td><td class=\"subtext\">\\n        <span class=\"score\" id=\"score_18344636\">89 points</span> by <a href=\"user?id=EastLondonCoder\" class=\"hnuser\">EastLondonCoder</a> <span class=\"age\"><a href=\"item?id=18344636\">6 hours ago</a></span> <span id=\"unv_18344636\"></span> | <a href=\"hide?id=18344636&amp;goto=news\">hide</a> | <a href=\"item?id=18344636\">25&nbsp;comments</a>              </td></tr>\\n      <tr class=\"spacer\" style=\"height:5px\"></tr>\\n                <tr class=\\'athing\\' id=\\'18351654\\'>\\n      <td align=\"right\" valign=\"top\" class=\"title\"><span class=\"rank\">10.</span></td>      <td valign=\"top\" class=\"votelinks\"><center><a id=\\'up_18351654\\' href=\\'vote?id=18351654&amp;how=up&amp;goto=news\\'><div class=\\'votearrow\\' title=\\'upvote\\'></div></a></center></td><td class=\"title\"><a href=\"https://www.nature.com/articles/d41586-018-07183-6\" class=\"storylink\">Protect the last of the wild</a><span class=\"sitebit comhead\"> (<a href=\"from?site=nature.com\"><span class=\"sitestr\">nature.com</span></a>)</span></td></tr><tr><td colspan=\"2\"></td><td class=\"subtext\">\\n        <span class=\"score\" id=\"score_18351654\">131 points</span> by <a href=\"user?id=aviziva\" class=\"hnuser\">aviziva</a> <span class=\"age\"><a href=\"item?id=18351654\">9 hours ago</a></span> <span id=\"unv_18351654\"></span> | <a href=\"hide?id=18351654&amp;goto=news\">hide</a> | <a href=\"item?id=18351654\">60&nbsp;comments</a>              </td></tr>\\n      <tr class=\"spacer\" style=\"height:5px\"></tr>\\n                <tr class=\\'athing\\' id=\\'18351685\\'>\\n      <td align=\"right\" valign=\"top\" class=\"title\"><span class=\"rank\">11.</span></td>      <td valign=\"top\" class=\"votelinks\"><center><a id=\\'up_18351685\\' href=\\'vote?id=18351685&amp;how=up&amp;goto=news\\'><div class=\\'votearrow\\' title=\\'upvote\\'></div></a></center></td><td class=\"title\"><a href=\"https://jalammar.github.io/gentle-visual-intro-to-data-analysis-python-pandas/\" class=\"storylink\">A Gentle Visual Intro to Data Analysis in Python Using Pandas</a><span class=\"sitebit comhead\"> (<a href=\"from?site=jalammar.github.io\"><span class=\"sitestr\">jalammar.github.io</span></a>)</span></td></tr><tr><td colspan=\"2\"></td><td class=\"subtext\">\\n        <span class=\"score\" id=\"score_18351685\">128 points</span> by <a href=\"user?id=jalammar\" class=\"hnuser\">jalammar</a> <span class=\"age\"><a href=\"item?id=18351685\">9 hours ago</a></span> <span id=\"unv_18351685\"></span> | <a href=\"hide?id=18351685&amp;goto=news\">hide</a> | <a href=\"item?id=18351685\">34&nbsp;comments</a>              </td></tr>\\n      <tr class=\"spacer\" style=\"height:5px\"></tr>\\n                <tr class=\\'athing\\' id=\\'18351733\\'>\\n      <td align=\"right\" valign=\"top\" class=\"title\"><span class=\"rank\">12.</span></td>      <td valign=\"top\" class=\"votelinks\"><center><a id=\\'up_18351733\\' href=\\'vote?id=18351733&amp;how=up&amp;goto=news\\'><div class=\\'votearrow\\' title=\\'upvote\\'></div></a></center></td><td class=\"title\"><a href=\"https://gizmodo.com/an-ai-lie-detector-is-going-to-start-questioning-travel-1830126881\" class=\"storylink\">An AI Lie Detector Is Going to Start Questioning Travelers in the EU</a><span class=\"sitebit comhead\"> (<a href=\"from?site=gizmodo.com\"><span class=\"sitestr\">gizmodo.com</span></a>)</span></td></tr><tr><td colspan=\"2\"></td><td class=\"subtext\">\\n        <span class=\"score\" id=\"score_18351733\">117 points</span> by <a href=\"user?id=atlasunshrugged\" class=\"hnuser\">atlasunshrugged</a> <span class=\"age\"><a href=\"item?id=18351733\">9 hours ago</a></span> <span id=\"unv_18351733\"></span> | <a href=\"hide?id=18351733&amp;goto=news\">hide</a> | <a href=\"item?id=18351733\">107&nbsp;comments</a>              </td></tr>\\n      <tr class=\"spacer\" style=\"height:5px\"></tr>\\n                <tr class=\\'athing\\' id=\\'18354178\\'>\\n      <td align=\"right\" valign=\"top\" class=\"title\"><span class=\"rank\">13.</span></td>      <td></td><td class=\"title\"><a href=\"https://www.quitgenius.com/careers/ui-ux-designer-apply/\" class=\"storylink\" rel=\"nofollow\">Quit  Genius (YC W18) looking for UI/UX Designer to build next-gen digital therapies</a><span class=\"sitebit comhead\"> (<a href=\"from?site=quitgenius.com\"><span class=\"sitestr\">quitgenius.com</span></a>)</span></td></tr><tr><td colspan=\"2\"></td><td class=\"subtext\">\\n        <span class=\"age\"><a href=\"item?id=18354178\">56 minutes ago</a></span> | <a href=\"hide?id=18354178&amp;goto=news\">hide</a>      </td></tr>\\n      <tr class=\"spacer\" style=\"height:5px\"></tr>\\n                <tr class=\\'athing\\' id=\\'18336069\\'>\\n      <td align=\"right\" valign=\"top\" class=\"title\"><span class=\"rank\">14.</span></td>      <td valign=\"top\" class=\"votelinks\"><center><a id=\\'up_18336069\\' href=\\'vote?id=18336069&amp;how=up&amp;goto=news\\'><div class=\\'votearrow\\' title=\\'upvote\\'></div></a></center></td><td class=\"title\"><a href=\"https://github.com/monadgroup/axiom\" class=\"storylink\">Show HN: A realtime node-based audio synth based on LLVM</a><span class=\"sitebit comhead\"> (<a href=\"from?site=github.com\"><span class=\"sitestr\">github.com</span></a>)</span></td></tr><tr><td colspan=\"2\"></td><td class=\"subtext\">\\n        <span class=\"score\" id=\"score_18336069\">35 points</span> by <a href=\"user?id=cpdt\" class=\"hnuser\">cpdt</a> <span class=\"age\"><a href=\"item?id=18336069\">5 hours ago</a></span> <span id=\"unv_18336069\"></span> | <a href=\"hide?id=18336069&amp;goto=news\">hide</a> | <a href=\"item?id=18336069\">12&nbsp;comments</a>              </td></tr>\\n      <tr class=\"spacer\" style=\"height:5px\"></tr>\\n                <tr class=\\'athing\\' id=\\'18353804\\'>\\n      <td align=\"right\" valign=\"top\" class=\"title\"><span class=\"rank\">15.</span></td>      <td valign=\"top\" class=\"votelinks\"><center><a id=\\'up_18353804\\' href=\\'vote?id=18353804&amp;how=up&amp;goto=news\\'><div class=\\'votearrow\\' title=\\'upvote\\'></div></a></center></td><td class=\"title\"><a href=\"https://www.theatlantic.com/science/archive/2018/11/science-full-mavericks-like-my-grandfather-was-his-physics-theory-right/574573/?single_page=true\" class=\"storylink\">My Grandfather Thought He Solved a Cosmic Mystery</a><span class=\"sitebit comhead\"> (<a href=\"from?site=theatlantic.com\"><span class=\"sitestr\">theatlantic.com</span></a>)</span></td></tr><tr><td colspan=\"2\"></td><td class=\"subtext\">\\n        <span class=\"score\" id=\"score_18353804\">27 points</span> by <a href=\"user?id=gone35\" class=\"hnuser\">gone35</a> <span class=\"age\"><a href=\"item?id=18353804\">1 hour ago</a></span> <span id=\"unv_18353804\"></span> | <a href=\"hide?id=18353804&amp;goto=news\">hide</a> | <a href=\"item?id=18353804\">discuss</a>              </td></tr>\\n      <tr class=\"spacer\" style=\"height:5px\"></tr>\\n                <tr class=\\'athing\\' id=\\'18351290\\'>\\n      <td align=\"right\" valign=\"top\" class=\"title\"><span class=\"rank\">16.</span></td>      <td valign=\"top\" class=\"votelinks\"><center><a id=\\'up_18351290\\' href=\\'vote?id=18351290&amp;how=up&amp;goto=news\\'><div class=\\'votearrow\\' title=\\'upvote\\'></div></a></center></td><td class=\"title\"><a href=\"https://arstechnica.com/science/2018/10/danish-physicists-claim-to-cast-doubt-on-detection-of-gravitational-waves/\" class=\"storylink\">Danish physicists claim to cast doubt on detection of gravitational waves</a><span class=\"sitebit comhead\"> (<a href=\"from?site=arstechnica.com\"><span class=\"sitestr\">arstechnica.com</span></a>)</span></td></tr><tr><td colspan=\"2\"></td><td class=\"subtext\">\\n        <span class=\"score\" id=\"score_18351290\">106 points</span> by <a href=\"user?id=okket\" class=\"hnuser\">okket</a> <span class=\"age\"><a href=\"item?id=18351290\">11 hours ago</a></span> <span id=\"unv_18351290\"></span> | <a href=\"hide?id=18351290&amp;goto=news\">hide</a> | <a href=\"item?id=18351290\">63&nbsp;comments</a>              </td></tr>\\n      <tr class=\"spacer\" style=\"height:5px\"></tr>\\n                <tr class=\\'athing\\' id=\\'18352529\\'>\\n      <td align=\"right\" valign=\"top\" class=\"title\"><span class=\"rank\">17.</span></td>      <td valign=\"top\" class=\"votelinks\"><center><a id=\\'up_18352529\\' href=\\'vote?id=18352529&amp;how=up&amp;goto=news\\'><div class=\\'votearrow\\' title=\\'upvote\\'></div></a></center></td><td class=\"title\"><a href=\"https://medium.com/@nodejs/october-brings-node-js-10-x-to-lts-and-node-js-11-to-current-ae19f8f12b51\" class=\"storylink\">October Brings Node.js 10.x to LTS and Node.js 11 to Current</a><span class=\"sitebit comhead\"> (<a href=\"from?site=medium.com\"><span class=\"sitestr\">medium.com</span></a>)</span></td></tr><tr><td colspan=\"2\"></td><td class=\"subtext\">\\n        <span class=\"score\" id=\"score_18352529\">126 points</span> by <a href=\"user?id=truth_seeker\" class=\"hnuser\">truth_seeker</a> <span class=\"age\"><a href=\"item?id=18352529\">4 hours ago</a></span> <span id=\"unv_18352529\"></span> | <a href=\"hide?id=18352529&amp;goto=news\">hide</a> | <a href=\"item?id=18352529\">31&nbsp;comments</a>              </td></tr>\\n      <tr class=\"spacer\" style=\"height:5px\"></tr>\\n                <tr class=\\'athing\\' id=\\'18354609\\'>\\n      <td align=\"right\" valign=\"top\" class=\"title\"><span class=\"rank\">18.</span></td>      <td valign=\"top\" class=\"votelinks\"><center><a id=\\'up_18354609\\' href=\\'vote?id=18354609&amp;how=up&amp;goto=news\\'><div class=\\'votearrow\\' title=\\'upvote\\'></div></a></center></td><td class=\"title\"><a href=\"https://www.macrumors.com/2018/11/01/2018-ipad-pro-benchmarks-geekbench/\" class=\"storylink\">New iPad Pro Has Comparable Performance to 2018 15“ MacBook Pro in Benchmarks</a><span class=\"sitebit comhead\"> (<a href=\"from?site=macrumors.com\"><span class=\"sitestr\">macrumors.com</span></a>)</span></td></tr><tr><td colspan=\"2\"></td><td class=\"subtext\">\\n        <span class=\"score\" id=\"score_18354609\">11 points</span> by <a href=\"user?id=ghobs91\" class=\"hnuser\">ghobs91</a> <span class=\"age\"><a href=\"item?id=18354609\">17 minutes ago</a></span> <span id=\"unv_18354609\"></span> | <a href=\"hide?id=18354609&amp;goto=news\">hide</a> | <a href=\"item?id=18354609\">1&nbsp;comment</a>              </td></tr>\\n      <tr class=\"spacer\" style=\"height:5px\"></tr>\\n                <tr class=\\'athing\\' id=\\'18351312\\'>\\n      <td align=\"right\" valign=\"top\" class=\"title\"><span class=\"rank\">19.</span></td>      <td valign=\"top\" class=\"votelinks\"><center><a id=\\'up_18351312\\' href=\\'vote?id=18351312&amp;how=up&amp;goto=news\\'><div class=\\'votearrow\\' title=\\'upvote\\'></div></a></center></td><td class=\"title\"><a href=\"https://hadrienj.github.io/posts/Deep-Learning-Book-Series-Introduction/\" class=\"storylink\">Getting started with linear algebra</a><span class=\"sitebit comhead\"> (<a href=\"from?site=hadrienj.github.io\"><span class=\"sitestr\">hadrienj.github.io</span></a>)</span></td></tr><tr><td colspan=\"2\"></td><td class=\"subtext\">\\n        <span class=\"score\" id=\"score_18351312\">108 points</span> by <a href=\"user?id=ghosthamlet\" class=\"hnuser\">ghosthamlet</a> <span class=\"age\"><a href=\"item?id=18351312\">11 hours ago</a></span> <span id=\"unv_18351312\"></span> | <a href=\"hide?id=18351312&amp;goto=news\">hide</a> | <a href=\"item?id=18351312\">11&nbsp;comments</a>              </td></tr>\\n      <tr class=\"spacer\" style=\"height:5px\"></tr>\\n                <tr class=\\'athing\\' id=\\'18347003\\'>\\n      <td align=\"right\" valign=\"top\" class=\"title\"><span class=\"rank\">20.</span></td>      <td valign=\"top\" class=\"votelinks\"><center><a id=\\'up_18347003\\' href=\\'vote?id=18347003&amp;how=up&amp;goto=news\\'><div class=\\'votearrow\\' title=\\'upvote\\'></div></a></center></td><td class=\"title\"><a href=\"http://stmaryvalleybloom.org/pascal-diversion.html\" class=\"storylink\">What Our Diversions Reveal about Us (1670)</a><span class=\"sitebit comhead\"> (<a href=\"from?site=stmaryvalleybloom.org\"><span class=\"sitestr\">stmaryvalleybloom.org</span></a>)</span></td></tr><tr><td colspan=\"2\"></td><td class=\"subtext\">\\n        <span class=\"score\" id=\"score_18347003\">58 points</span> by <a href=\"user?id=erwan\" class=\"hnuser\">erwan</a> <span class=\"age\"><a href=\"item?id=18347003\">7 hours ago</a></span> <span id=\"unv_18347003\"></span> | <a href=\"hide?id=18347003&amp;goto=news\">hide</a> | <a href=\"item?id=18347003\">8&nbsp;comments</a>              </td></tr>\\n      <tr class=\"spacer\" style=\"height:5px\"></tr>\\n                <tr class=\\'athing\\' id=\\'18343860\\'>\\n      <td align=\"right\" valign=\"top\" class=\"title\"><span class=\"rank\">21.</span></td>      <td valign=\"top\" class=\"votelinks\"><center><a id=\\'up_18343860\\' href=\\'vote?id=18343860&amp;how=up&amp;goto=news\\'><div class=\\'votearrow\\' title=\\'upvote\\'></div></a></center></td><td class=\"title\"><a href=\"https://www.bbc.com/news/world-us-canada-45983540\" class=\"storylink\">Canada\\'s last witch trials: Women accused of fake witchcraft</a><span class=\"sitebit comhead\"> (<a href=\"from?site=bbc.com\"><span class=\"sitestr\">bbc.com</span></a>)</span></td></tr><tr><td colspan=\"2\"></td><td class=\"subtext\">\\n        <span class=\"score\" id=\"score_18343860\">37 points</span> by <a href=\"user?id=Thevet\" class=\"hnuser\">Thevet</a> <span class=\"age\"><a href=\"item?id=18343860\">7 hours ago</a></span> <span id=\"unv_18343860\"></span> | <a href=\"hide?id=18343860&amp;goto=news\">hide</a> | <a href=\"item?id=18343860\">34&nbsp;comments</a>              </td></tr>\\n      <tr class=\"spacer\" style=\"height:5px\"></tr>\\n                <tr class=\\'athing\\' id=\\'18344457\\'>\\n      <td align=\"right\" valign=\"top\" class=\"title\"><span class=\"rank\">22.</span></td>      <td valign=\"top\" class=\"votelinks\"><center><a id=\\'up_18344457\\' href=\\'vote?id=18344457&amp;how=up&amp;goto=news\\'><div class=\\'votearrow\\' title=\\'upvote\\'></div></a></center></td><td class=\"title\"><a href=\"https://www.bbc.co.uk/news/world-asia-china-46040266\" class=\"storylink\">Jin Yong, the \\'Tolkien of Chinese literature\\', has died</a><span class=\"sitebit comhead\"> (<a href=\"from?site=bbc.co.uk\"><span class=\"sitestr\">bbc.co.uk</span></a>)</span></td></tr><tr><td colspan=\"2\"></td><td class=\"subtext\">\\n        <span class=\"score\" id=\"score_18344457\">104 points</span> by <a href=\"user?id=YeGoblynQueenne\" class=\"hnuser\">YeGoblynQueenne</a> <span class=\"age\"><a href=\"item?id=18344457\">11 hours ago</a></span> <span id=\"unv_18344457\"></span> | <a href=\"hide?id=18344457&amp;goto=news\">hide</a> | <a href=\"item?id=18344457\">78&nbsp;comments</a>              </td></tr>\\n      <tr class=\"spacer\" style=\"height:5px\"></tr>\\n                <tr class=\\'athing\\' id=\\'18349887\\'>\\n      <td align=\"right\" valign=\"top\" class=\"title\"><span class=\"rank\">23.</span></td>      <td valign=\"top\" class=\"votelinks\"><center><a id=\\'up_18349887\\' href=\\'vote?id=18349887&amp;how=up&amp;goto=news\\'><div class=\\'votearrow\\' title=\\'upvote\\'></div></a></center></td><td class=\"title\"><a href=\"https://security.googleblog.com/2018/10/announcing-some-security-treats-to.html\" class=\"storylink\">JavaScript is now required to sign in to Google</a><span class=\"sitebit comhead\"> (<a href=\"from?site=googleblog.com\"><span class=\"sitestr\">googleblog.com</span></a>)</span></td></tr><tr><td colspan=\"2\"></td><td class=\"subtext\">\\n        <span class=\"score\" id=\"score_18349887\">485 points</span> by <a href=\"user?id=amaccuish\" class=\"hnuser\">amaccuish</a> <span class=\"age\"><a href=\"item?id=18349887\">16 hours ago</a></span> <span id=\"unv_18349887\"></span> | <a href=\"hide?id=18349887&amp;goto=news\">hide</a> | <a href=\"item?id=18349887\">414&nbsp;comments</a>              </td></tr>\\n      <tr class=\"spacer\" style=\"height:5px\"></tr>\\n                <tr class=\\'athing\\' id=\\'18346463\\'>\\n      <td align=\"right\" valign=\"top\" class=\"title\"><span class=\"rank\">24.</span></td>      <td valign=\"top\" class=\"votelinks\"><center><a id=\\'up_18346463\\' href=\\'vote?id=18346463&amp;how=up&amp;goto=news\\'><div class=\\'votearrow\\' title=\\'upvote\\'></div></a></center></td><td class=\"title\"><a href=\"https://www.native-instruments.com/fileadmin/ni_media/downloads/pdf/VAFilterDesign_2.1.0.pdf\" class=\"storylink\">The art of Virtual Analog filter design [pdf]</a><span class=\"sitebit comhead\"> (<a href=\"from?site=native-instruments.com\"><span class=\"sitestr\">native-instruments.com</span></a>)</span></td></tr><tr><td colspan=\"2\"></td><td class=\"subtext\">\\n        <span class=\"score\" id=\"score_18346463\">72 points</span> by <a href=\"user?id=unsatchmo\" class=\"hnuser\">unsatchmo</a> <span class=\"age\"><a href=\"item?id=18346463\">10 hours ago</a></span> <span id=\"unv_18346463\"></span> | <a href=\"hide?id=18346463&amp;goto=news\">hide</a> | <a href=\"item?id=18346463\">6&nbsp;comments</a>              </td></tr>\\n      <tr class=\"spacer\" style=\"height:5px\"></tr>\\n                <tr class=\\'athing\\' id=\\'18350620\\'>\\n      <td align=\"right\" valign=\"top\" class=\"title\"><span class=\"rank\">25.</span></td>      <td valign=\"top\" class=\"votelinks\"><center><a id=\\'up_18350620\\' href=\\'vote?id=18350620&amp;how=up&amp;goto=news\\'><div class=\\'votearrow\\' title=\\'upvote\\'></div></a></center></td><td class=\"title\"><a href=\"https://www.timesofisrael.com/tv-report-israel-silent-as-iran-hit-by-computer-virus-more-violent-than-stuxnet/\" class=\"storylink\">Israel silent as Iran hit by computer virus more violent than Stuxnet – report</a><span class=\"sitebit comhead\"> (<a href=\"from?site=timesofisrael.com\"><span class=\"sitestr\">timesofisrael.com</span></a>)</span></td></tr><tr><td colspan=\"2\"></td><td class=\"subtext\">\\n        <span class=\"score\" id=\"score_18350620\">173 points</span> by <a href=\"user?id=chablent\" class=\"hnuser\">chablent</a> <span class=\"age\"><a href=\"item?id=18350620\">14 hours ago</a></span> <span id=\"unv_18350620\"></span> | <a href=\"hide?id=18350620&amp;goto=news\">hide</a> | <a href=\"item?id=18350620\">63&nbsp;comments</a>              </td></tr>\\n      <tr class=\"spacer\" style=\"height:5px\"></tr>\\n                <tr class=\\'athing\\' id=\\'18352171\\'>\\n      <td align=\"right\" valign=\"top\" class=\"title\"><span class=\"rank\">26.</span></td>      <td valign=\"top\" class=\"votelinks\"><center><a id=\\'up_18352171\\' href=\\'vote?id=18352171&amp;how=up&amp;goto=news\\'><div class=\\'votearrow\\' title=\\'upvote\\'></div></a></center></td><td class=\"title\"><a href=\"https://lwn.net/Articles/768670/\" class=\"storylink\">Making the GPL more scary</a><span class=\"sitebit comhead\"> (<a href=\"from?site=lwn.net\"><span class=\"sitestr\">lwn.net</span></a>)</span></td></tr><tr><td colspan=\"2\"></td><td class=\"subtext\">\\n        <span class=\"score\" id=\"score_18352171\">120 points</span> by <a href=\"user?id=janvdberg\" class=\"hnuser\">janvdberg</a> <span class=\"age\"><a href=\"item?id=18352171\">6 hours ago</a></span> <span id=\"unv_18352171\"></span> | <a href=\"hide?id=18352171&amp;goto=news\">hide</a> | <a href=\"item?id=18352171\">91&nbsp;comments</a>              </td></tr>\\n      <tr class=\"spacer\" style=\"height:5px\"></tr>\\n                <tr class=\\'athing\\' id=\\'18349421\\'>\\n      <td align=\"right\" valign=\"top\" class=\"title\"><span class=\"rank\">27.</span></td>      <td valign=\"top\" class=\"votelinks\"><center><a id=\\'up_18349421\\' href=\\'vote?id=18349421&amp;how=up&amp;goto=news\\'><div class=\\'votearrow\\' title=\\'upvote\\'></div></a></center></td><td class=\"title\"><a href=\"https://www.levels.fyi/SE/Google/Facebook/Microsoft\" class=\"storylink\">Compare career levels across companies</a><span class=\"sitebit comhead\"> (<a href=\"from?site=levels.fyi\"><span class=\"sitestr\">levels.fyi</span></a>)</span></td></tr><tr><td colspan=\"2\"></td><td class=\"subtext\">\\n        <span class=\"score\" id=\"score_18349421\">705 points</span> by <a href=\"user?id=kposehn\" class=\"hnuser\">kposehn</a> <span class=\"age\"><a href=\"item?id=18349421\">17 hours ago</a></span> <span id=\"unv_18349421\"></span> | <a href=\"hide?id=18349421&amp;goto=news\">hide</a> | <a href=\"item?id=18349421\">345&nbsp;comments</a>              </td></tr>\\n      <tr class=\"spacer\" style=\"height:5px\"></tr>\\n                <tr class=\\'athing\\' id=\\'18353008\\'>\\n      <td align=\"right\" valign=\"top\" class=\"title\"><span class=\"rank\">28.</span></td>      <td valign=\"top\" class=\"votelinks\"><center><a id=\\'up_18353008\\' href=\\'vote?id=18353008&amp;how=up&amp;goto=news\\'><div class=\\'votearrow\\' title=\\'upvote\\'></div></a></center></td><td class=\"title\"><a href=\"https://arstechnica.com/tech-policy/2018/11/most-litigious-patent-enforcer-in-us-calls-it-quits-files-bankruptcy/\" class=\"storylink\">Notorious patent enforcement entity values its entire portfolio at $2, folds</a><span class=\"sitebit comhead\"> (<a href=\"from?site=arstechnica.com\"><span class=\"sitestr\">arstechnica.com</span></a>)</span></td></tr><tr><td colspan=\"2\"></td><td class=\"subtext\">\\n        <span class=\"score\" id=\"score_18353008\">33 points</span> by <a href=\"user?id=bovermyer\" class=\"hnuser\">bovermyer</a> <span class=\"age\"><a href=\"item?id=18353008\">3 hours ago</a></span> <span id=\"unv_18353008\"></span> | <a href=\"hide?id=18353008&amp;goto=news\">hide</a> | <a href=\"item?id=18353008\">5&nbsp;comments</a>              </td></tr>\\n      <tr class=\"spacer\" style=\"height:5px\"></tr>\\n                <tr class=\\'athing\\' id=\\'18351674\\'>\\n      <td align=\"right\" valign=\"top\" class=\"title\"><span class=\"rank\">29.</span></td>      <td valign=\"top\" class=\"votelinks\"><center><a id=\\'up_18351674\\' href=\\'vote?id=18351674&amp;how=up&amp;goto=news\\'><div class=\\'votearrow\\' title=\\'upvote\\'></div></a></center></td><td class=\"title\"><a href=\"https://jalammar.github.io/illustrated-transformer/\" class=\"storylink\">The Illustrated Transformer</a><span class=\"sitebit comhead\"> (<a href=\"from?site=jalammar.github.io\"><span class=\"sitestr\">jalammar.github.io</span></a>)</span></td></tr><tr><td colspan=\"2\"></td><td class=\"subtext\">\\n        <span class=\"score\" id=\"score_18351674\">46 points</span> by <a href=\"user?id=ghosthamlet\" class=\"hnuser\">ghosthamlet</a> <span class=\"age\"><a href=\"item?id=18351674\">9 hours ago</a></span> <span id=\"unv_18351674\"></span> | <a href=\"hide?id=18351674&amp;goto=news\">hide</a> | <a href=\"item?id=18351674\">2&nbsp;comments</a>              </td></tr>\\n      <tr class=\"spacer\" style=\"height:5px\"></tr>\\n                <tr class=\\'athing\\' id=\\'18344719\\'>\\n      <td align=\"right\" valign=\"top\" class=\"title\"><span class=\"rank\">30.</span></td>      <td valign=\"top\" class=\"votelinks\"><center><a id=\\'up_18344719\\' href=\\'vote?id=18344719&amp;how=up&amp;goto=news\\'><div class=\\'votearrow\\' title=\\'upvote\\'></div></a></center></td><td class=\"title\"><a href=\"https://www.japantimes.co.jp/life/2018/10/29/language/ghost-kanji-lurk-japanese-lexicon/\" class=\"storylink\">‘Ghost kanji’ lurk in the Japanese lexicon</a><span class=\"sitebit comhead\"> (<a href=\"from?site=japantimes.co.jp\"><span class=\"sitestr\">japantimes.co.jp</span></a>)</span></td></tr><tr><td colspan=\"2\"></td><td class=\"subtext\">\\n        <span class=\"score\" id=\"score_18344719\">81 points</span> by <a href=\"user?id=camtarn\" class=\"hnuser\">camtarn</a> <span class=\"age\"><a href=\"item?id=18344719\">14 hours ago</a></span> <span id=\"unv_18344719\"></span> | <a href=\"hide?id=18344719&amp;goto=news\">hide</a> | <a href=\"item?id=18344719\">11&nbsp;comments</a>              </td></tr>\\n      <tr class=\"spacer\" style=\"height:5px\"></tr>\\n            <tr class=\"morespace\" style=\"height:10px\"></tr><tr><td colspan=\"2\"></td><td class=\"title\"><a href=\"news?p=2\" class=\"morelink\" rel=\"nofollow\">More</a></td></tr>\\n  </table>\\n</td></tr>\\n<tr><td><img src=\"s.gif\" height=\"10\" width=\"0\"><table width=\"100%\" cellspacing=\"0\" cellpadding=\"1\"><tr><td bgcolor=\"#ff6600\"></td></tr></table><br><center><span class=\"yclinks\"><a href=\"newsguidelines.html\">Guidelines</a>\\n        | <a href=\"newsfaq.html\">FAQ</a>\\n        | <a href=\"mailto:hn@ycombinator.com\">Support</a>\\n        | <a href=\"https://github.com/HackerNews/API\">API</a>\\n        | <a href=\"security.html\">Security</a>\\n        | <a href=\"lists\">Lists</a>\\n        | <a href=\"bookmarklet.html\" rel=\"nofollow\">Bookmarklet</a>\\n        | <a href=\"http://www.ycombinator.com/legal/\">Legal</a>\\n        | <a href=\"http://www.ycombinator.com/apply/\">Apply to YC</a>\\n        | <a href=\"mailto:hn@ycombinator.com\">Contact</a></span><br><br><form method=\"get\" action=\"//hn.algolia.com/\">Search:\\n          <input type=\"text\" name=\"q\" value=\"\" size=\"17\" autocorrect=\"off\" spellcheck=\"false\" autocapitalize=\"off\" autocomplete=\"false\"></form>\\n            </center></td></tr>\\n      </table></center></body><script type=\\'text/javascript\\' src=\\'hn.js?ZgWrjiWrXzuQqi1Trwyl\\'></script>\\n  </html>\\n'"
      ]
     },
     "execution_count": 5,
     "metadata": {},
     "output_type": "execute_result"
    }
   ],
   "source": [
    "r.text"
   ]
  },
  {
   "cell_type": "code",
   "execution_count": 6,
   "metadata": {},
   "outputs": [],
   "source": [
    "import bs4"
   ]
  },
  {
   "cell_type": "code",
   "execution_count": 7,
   "metadata": {},
   "outputs": [],
   "source": [
    "mypage = bs4.BeautifulSoup(r.text)"
   ]
  },
  {
   "cell_type": "code",
   "execution_count": 8,
   "metadata": {},
   "outputs": [
    {
     "data": {
      "text/plain": [
       "<html op=\"news\"><head><meta content=\"origin\" name=\"referrer\"/><meta content=\"width=device-width, initial-scale=1.0\" name=\"viewport\"/><link href=\"news.css?ZgWrjiWrXzuQqi1Trwyl\" rel=\"stylesheet\" type=\"text/css\"/>\n",
       "<link href=\"favicon.ico\" rel=\"shortcut icon\"/>\n",
       "<link href=\"rss\" rel=\"alternate\" title=\"RSS\" type=\"application/rss+xml\"/>\n",
       "<title>Hacker News</title></head><body><center><table bgcolor=\"#f6f6ef\" border=\"0\" cellpadding=\"0\" cellspacing=\"0\" id=\"hnmain\" width=\"85%\">\n",
       "<tr><td bgcolor=\"#ff6600\"><table border=\"0\" cellpadding=\"0\" cellspacing=\"0\" style=\"padding:2px\" width=\"100%\"><tr><td style=\"width:18px;padding-right:4px\"><a href=\"https://news.ycombinator.com\"><img height=\"18\" src=\"y18.gif\" style=\"border:1px white solid;\" width=\"18\"/></a></td>\n",
       "<td style=\"line-height:12pt; height:10px;\"><span class=\"pagetop\"><b class=\"hnname\"><a href=\"news\">Hacker News</a></b>\n",
       "<a href=\"newest\">new</a> | <a href=\"newcomments\">comments</a> | <a href=\"show\">show</a> | <a href=\"ask\">ask</a> | <a href=\"jobs\">jobs</a> | <a href=\"submit\">submit</a> </span></td><td style=\"text-align:right;padding-right:4px;\"><span class=\"pagetop\">\n",
       "<a href=\"login?goto=news\">login</a>\n",
       "</span></td>\n",
       "</tr></table></td></tr>\n",
       "<tr style=\"height:10px\"></tr><tr><td><table border=\"0\" cellpadding=\"0\" cellspacing=\"0\" class=\"itemlist\">\n",
       "<tr class=\"athing\" id=\"18353874\">\n",
       "<td align=\"right\" class=\"title\" valign=\"top\"><span class=\"rank\">1.</span></td> <td class=\"votelinks\" valign=\"top\"><center><a href=\"vote?id=18353874&amp;how=up&amp;goto=news\" id=\"up_18353874\"><div class=\"votearrow\" title=\"upvote\"></div></a></center></td><td class=\"title\"><a class=\"storylink\" href=\"http://cryto.net/~joepie91/blog/2016/06/13/stop-using-jwt-for-sessions/\">Stop using JWT for sessions (2016)</a><span class=\"sitebit comhead\"> (<a href=\"from?site=cryto.net\"><span class=\"sitestr\">cryto.net</span></a>)</span></td></tr><tr><td colspan=\"2\"></td><td class=\"subtext\">\n",
       "<span class=\"score\" id=\"score_18353874\">129 points</span> by <a class=\"hnuser\" href=\"user?id=enraged_camel\">enraged_camel</a> <span class=\"age\"><a href=\"item?id=18353874\">1 hour ago</a></span> <span id=\"unv_18353874\"></span> | <a href=\"hide?id=18353874&amp;goto=news\">hide</a> | <a href=\"item?id=18353874\">92 comments</a> </td></tr>\n",
       "<tr class=\"spacer\" style=\"height:5px\"></tr>\n",
       "<tr class=\"athing\" id=\"18353425\">\n",
       "<td align=\"right\" class=\"title\" valign=\"top\"><span class=\"rank\">2.</span></td> <td class=\"votelinks\" valign=\"top\"><center><a href=\"vote?id=18353425&amp;how=up&amp;goto=news\" id=\"up_18353425\"><div class=\"votearrow\" title=\"upvote\"></div></a></center></td><td class=\"title\"><a class=\"storylink\" href=\"https://www.reuters.com/article/us-technology-www/father-of-web-says-tech-giants-may-have-to-be-split-up-idUSKCN1N63MV\">Father of Web says tech giants may have to be split up</a><span class=\"sitebit comhead\"> (<a href=\"from?site=reuters.com\"><span class=\"sitestr\">reuters.com</span></a>)</span></td></tr><tr><td colspan=\"2\"></td><td class=\"subtext\">\n",
       "<span class=\"score\" id=\"score_18353425\">128 points</span> by <a class=\"hnuser\" href=\"user?id=adventured\">adventured</a> <span class=\"age\"><a href=\"item?id=18353425\">2 hours ago</a></span> <span id=\"unv_18353425\"></span> | <a href=\"hide?id=18353425&amp;goto=news\">hide</a> | <a href=\"item?id=18353425\">121 comments</a> </td></tr>\n",
       "<tr class=\"spacer\" style=\"height:5px\"></tr>\n",
       "<tr class=\"athing\" id=\"18354066\">\n",
       "<td align=\"right\" class=\"title\" valign=\"top\"><span class=\"rank\">3.</span></td> <td class=\"votelinks\" valign=\"top\"><center><a href=\"vote?id=18354066&amp;how=up&amp;goto=news\" id=\"up_18354066\"><div class=\"votearrow\" title=\"upvote\"></div></a></center></td><td class=\"title\"><a class=\"storylink\" href=\"https://blog.flickr.net/en/2018/11/01/changing-flickr-free-accounts-1000-photos/\">Why we’re changing Flickr free accounts</a><span class=\"sitebit comhead\"> (<a href=\"from?site=flickr.net\"><span class=\"sitestr\">flickr.net</span></a>)</span></td></tr><tr><td colspan=\"2\"></td><td class=\"subtext\">\n",
       "<span class=\"score\" id=\"score_18354066\">68 points</span> by <a class=\"hnuser\" href=\"user?id=renchap\">renchap</a> <span class=\"age\"><a href=\"item?id=18354066\">1 hour ago</a></span> <span id=\"unv_18354066\"></span> | <a href=\"hide?id=18354066&amp;goto=news\">hide</a> | <a href=\"item?id=18354066\">48 comments</a> </td></tr>\n",
       "<tr class=\"spacer\" style=\"height:5px\"></tr>\n",
       "<tr class=\"athing\" id=\"18351891\">\n",
       "<td align=\"right\" class=\"title\" valign=\"top\"><span class=\"rank\">4.</span></td> <td class=\"votelinks\" valign=\"top\"><center><a href=\"vote?id=18351891&amp;how=up&amp;goto=news\" id=\"up_18351891\"><div class=\"votearrow\" title=\"upvote\"></div></a></center></td><td class=\"title\"><a class=\"storylink\" href=\"https://www.pipelinedb.com/blog/three-sales-mistakes-software-engineers-make\">Sales mistakes that software engineers make</a><span class=\"sitebit comhead\"> (<a href=\"from?site=pipelinedb.com\"><span class=\"sitestr\">pipelinedb.com</span></a>)</span></td></tr><tr><td colspan=\"2\"></td><td class=\"subtext\">\n",
       "<span class=\"score\" id=\"score_18351891\">366 points</span> by <a class=\"hnuser\" href=\"user?id=Fergi\">Fergi</a> <span class=\"age\"><a href=\"item?id=18351891\">8 hours ago</a></span> <span id=\"unv_18351891\"></span> | <a href=\"hide?id=18351891&amp;goto=news\">hide</a> | <a href=\"item?id=18351891\">125 comments</a> </td></tr>\n",
       "<tr class=\"spacer\" style=\"height:5px\"></tr>\n",
       "<tr class=\"athing\" id=\"18354503\">\n",
       "<td align=\"right\" class=\"title\" valign=\"top\"><span class=\"rank\">5.</span></td> <td class=\"votelinks\" valign=\"top\"><center><a href=\"vote?id=18354503&amp;how=up&amp;goto=news\" id=\"up_18354503\"><div class=\"votearrow\" title=\"upvote\"></div></a></center></td><td class=\"title\"><a class=\"storylink\" href=\"item?id=18354503\">Ask HN: Who is hiring? (November 2018)</a></td></tr><tr><td colspan=\"2\"></td><td class=\"subtext\">\n",
       "<span class=\"score\" id=\"score_18354503\">30 points</span> by <a class=\"hnuser\" href=\"user?id=whoishiring\">whoishiring</a> <span class=\"age\"><a href=\"item?id=18354503\">25 minutes ago</a></span> <span id=\"unv_18354503\"></span> | <a href=\"hide?id=18354503&amp;goto=news\">hide</a> | <a href=\"item?id=18354503\">47 comments</a> </td></tr>\n",
       "<tr class=\"spacer\" style=\"height:5px\"></tr>\n",
       "<tr class=\"athing\" id=\"18352490\">\n",
       "<td align=\"right\" class=\"title\" valign=\"top\"><span class=\"rank\">6.</span></td> <td class=\"votelinks\" valign=\"top\"><center><a href=\"vote?id=18352490&amp;how=up&amp;goto=news\" id=\"up_18352490\"><div class=\"votearrow\" title=\"upvote\"></div></a></center></td><td class=\"title\"><a class=\"storylink\" href=\"https://www.vuedarkmode.com/\">Show HN: Vue Dark Mode – A Minimalist Dark Design System for Vue.js</a><span class=\"sitebit comhead\"> (<a href=\"from?site=vuedarkmode.com\"><span class=\"sitestr\">vuedarkmode.com</span></a>)</span></td></tr><tr><td colspan=\"2\"></td><td class=\"subtext\">\n",
       "<span class=\"score\" id=\"score_18352490\">86 points</span> by <a class=\"hnuser\" href=\"user?id=LeCoupa\">LeCoupa</a> <span class=\"age\"><a href=\"item?id=18352490\">5 hours ago</a></span> <span id=\"unv_18352490\"></span> | <a href=\"hide?id=18352490&amp;goto=news\">hide</a> | <a href=\"item?id=18352490\">27 comments</a> </td></tr>\n",
       "<tr class=\"spacer\" style=\"height:5px\"></tr>\n",
       "<tr class=\"athing\" id=\"18352754\">\n",
       "<td align=\"right\" class=\"title\" valign=\"top\"><span class=\"rank\">7.</span></td> <td class=\"votelinks\" valign=\"top\"><center><a href=\"vote?id=18352754&amp;how=up&amp;goto=news\" id=\"up_18352754\"><div class=\"votearrow\" title=\"upvote\"></div></a></center></td><td class=\"title\"><a class=\"storylink\" href=\"https://techcrunch.com/2018/11/01/neo4j-nabs-80m-series-e-as-graph-database-tech-matures/\">Neo4j nabs $80M Series E as graph database tech flourishes</a><span class=\"sitebit comhead\"> (<a href=\"from?site=techcrunch.com\"><span class=\"sitestr\">techcrunch.com</span></a>)</span></td></tr><tr><td colspan=\"2\"></td><td class=\"subtext\">\n",
       "<span class=\"score\" id=\"score_18352754\">128 points</span> by <a class=\"hnuser\" href=\"user?id=jexp\">jexp</a> <span class=\"age\"><a href=\"item?id=18352754\">4 hours ago</a></span> <span id=\"unv_18352754\"></span> | <a href=\"hide?id=18352754&amp;goto=news\">hide</a> | <a href=\"item?id=18352754\">63 comments</a> </td></tr>\n",
       "<tr class=\"spacer\" style=\"height:5px\"></tr>\n",
       "<tr class=\"athing\" id=\"18344033\">\n",
       "<td align=\"right\" class=\"title\" valign=\"top\"><span class=\"rank\">8.</span></td> <td class=\"votelinks\" valign=\"top\"><center><a href=\"vote?id=18344033&amp;how=up&amp;goto=news\" id=\"up_18344033\"><div class=\"votearrow\" title=\"upvote\"></div></a></center></td><td class=\"title\"><a class=\"storylink\" href=\"https://www.silasreinagel.com/blog/2018/10/30/indirection-is-not-abstraction/\">Indirection Is Not Abstraction</a><span class=\"sitebit comhead\"> (<a href=\"from?site=silasreinagel.com\"><span class=\"sitestr\">silasreinagel.com</span></a>)</span></td></tr><tr><td colspan=\"2\"></td><td class=\"subtext\">\n",
       "<span class=\"score\" id=\"score_18344033\">18 points</span> by <a class=\"hnuser\" href=\"user?id=yegor256a\">yegor256a</a> <span class=\"age\"><a href=\"item?id=18344033\">2 hours ago</a></span> <span id=\"unv_18344033\"></span> | <a href=\"hide?id=18344033&amp;goto=news\">hide</a> | <a href=\"item?id=18344033\">discuss</a> </td></tr>\n",
       "<tr class=\"spacer\" style=\"height:5px\"></tr>\n",
       "<tr class=\"athing\" id=\"18344636\">\n",
       "<td align=\"right\" class=\"title\" valign=\"top\"><span class=\"rank\">9.</span></td> <td class=\"votelinks\" valign=\"top\"><center><a href=\"vote?id=18344636&amp;how=up&amp;goto=news\" id=\"up_18344636\"><div class=\"votearrow\" title=\"upvote\"></div></a></center></td><td class=\"title\"><a class=\"storylink\" href=\"http://www.solarfoods.fi/\">Solar foods</a><span class=\"sitebit comhead\"> (<a href=\"from?site=solarfoods.fi\"><span class=\"sitestr\">solarfoods.fi</span></a>)</span></td></tr><tr><td colspan=\"2\"></td><td class=\"subtext\">\n",
       "<span class=\"score\" id=\"score_18344636\">89 points</span> by <a class=\"hnuser\" href=\"user?id=EastLondonCoder\">EastLondonCoder</a> <span class=\"age\"><a href=\"item?id=18344636\">6 hours ago</a></span> <span id=\"unv_18344636\"></span> | <a href=\"hide?id=18344636&amp;goto=news\">hide</a> | <a href=\"item?id=18344636\">25 comments</a> </td></tr>\n",
       "<tr class=\"spacer\" style=\"height:5px\"></tr>\n",
       "<tr class=\"athing\" id=\"18351654\">\n",
       "<td align=\"right\" class=\"title\" valign=\"top\"><span class=\"rank\">10.</span></td> <td class=\"votelinks\" valign=\"top\"><center><a href=\"vote?id=18351654&amp;how=up&amp;goto=news\" id=\"up_18351654\"><div class=\"votearrow\" title=\"upvote\"></div></a></center></td><td class=\"title\"><a class=\"storylink\" href=\"https://www.nature.com/articles/d41586-018-07183-6\">Protect the last of the wild</a><span class=\"sitebit comhead\"> (<a href=\"from?site=nature.com\"><span class=\"sitestr\">nature.com</span></a>)</span></td></tr><tr><td colspan=\"2\"></td><td class=\"subtext\">\n",
       "<span class=\"score\" id=\"score_18351654\">131 points</span> by <a class=\"hnuser\" href=\"user?id=aviziva\">aviziva</a> <span class=\"age\"><a href=\"item?id=18351654\">9 hours ago</a></span> <span id=\"unv_18351654\"></span> | <a href=\"hide?id=18351654&amp;goto=news\">hide</a> | <a href=\"item?id=18351654\">60 comments</a> </td></tr>\n",
       "<tr class=\"spacer\" style=\"height:5px\"></tr>\n",
       "<tr class=\"athing\" id=\"18351685\">\n",
       "<td align=\"right\" class=\"title\" valign=\"top\"><span class=\"rank\">11.</span></td> <td class=\"votelinks\" valign=\"top\"><center><a href=\"vote?id=18351685&amp;how=up&amp;goto=news\" id=\"up_18351685\"><div class=\"votearrow\" title=\"upvote\"></div></a></center></td><td class=\"title\"><a class=\"storylink\" href=\"https://jalammar.github.io/gentle-visual-intro-to-data-analysis-python-pandas/\">A Gentle Visual Intro to Data Analysis in Python Using Pandas</a><span class=\"sitebit comhead\"> (<a href=\"from?site=jalammar.github.io\"><span class=\"sitestr\">jalammar.github.io</span></a>)</span></td></tr><tr><td colspan=\"2\"></td><td class=\"subtext\">\n",
       "<span class=\"score\" id=\"score_18351685\">128 points</span> by <a class=\"hnuser\" href=\"user?id=jalammar\">jalammar</a> <span class=\"age\"><a href=\"item?id=18351685\">9 hours ago</a></span> <span id=\"unv_18351685\"></span> | <a href=\"hide?id=18351685&amp;goto=news\">hide</a> | <a href=\"item?id=18351685\">34 comments</a> </td></tr>\n",
       "<tr class=\"spacer\" style=\"height:5px\"></tr>\n",
       "<tr class=\"athing\" id=\"18351733\">\n",
       "<td align=\"right\" class=\"title\" valign=\"top\"><span class=\"rank\">12.</span></td> <td class=\"votelinks\" valign=\"top\"><center><a href=\"vote?id=18351733&amp;how=up&amp;goto=news\" id=\"up_18351733\"><div class=\"votearrow\" title=\"upvote\"></div></a></center></td><td class=\"title\"><a class=\"storylink\" href=\"https://gizmodo.com/an-ai-lie-detector-is-going-to-start-questioning-travel-1830126881\">An AI Lie Detector Is Going to Start Questioning Travelers in the EU</a><span class=\"sitebit comhead\"> (<a href=\"from?site=gizmodo.com\"><span class=\"sitestr\">gizmodo.com</span></a>)</span></td></tr><tr><td colspan=\"2\"></td><td class=\"subtext\">\n",
       "<span class=\"score\" id=\"score_18351733\">117 points</span> by <a class=\"hnuser\" href=\"user?id=atlasunshrugged\">atlasunshrugged</a> <span class=\"age\"><a href=\"item?id=18351733\">9 hours ago</a></span> <span id=\"unv_18351733\"></span> | <a href=\"hide?id=18351733&amp;goto=news\">hide</a> | <a href=\"item?id=18351733\">107 comments</a> </td></tr>\n",
       "<tr class=\"spacer\" style=\"height:5px\"></tr>\n",
       "<tr class=\"athing\" id=\"18354178\">\n",
       "<td align=\"right\" class=\"title\" valign=\"top\"><span class=\"rank\">13.</span></td> <td></td><td class=\"title\"><a class=\"storylink\" href=\"https://www.quitgenius.com/careers/ui-ux-designer-apply/\" rel=\"nofollow\">Quit  Genius (YC W18) looking for UI/UX Designer to build next-gen digital therapies</a><span class=\"sitebit comhead\"> (<a href=\"from?site=quitgenius.com\"><span class=\"sitestr\">quitgenius.com</span></a>)</span></td></tr><tr><td colspan=\"2\"></td><td class=\"subtext\">\n",
       "<span class=\"age\"><a href=\"item?id=18354178\">56 minutes ago</a></span> | <a href=\"hide?id=18354178&amp;goto=news\">hide</a> </td></tr>\n",
       "<tr class=\"spacer\" style=\"height:5px\"></tr>\n",
       "<tr class=\"athing\" id=\"18336069\">\n",
       "<td align=\"right\" class=\"title\" valign=\"top\"><span class=\"rank\">14.</span></td> <td class=\"votelinks\" valign=\"top\"><center><a href=\"vote?id=18336069&amp;how=up&amp;goto=news\" id=\"up_18336069\"><div class=\"votearrow\" title=\"upvote\"></div></a></center></td><td class=\"title\"><a class=\"storylink\" href=\"https://github.com/monadgroup/axiom\">Show HN: A realtime node-based audio synth based on LLVM</a><span class=\"sitebit comhead\"> (<a href=\"from?site=github.com\"><span class=\"sitestr\">github.com</span></a>)</span></td></tr><tr><td colspan=\"2\"></td><td class=\"subtext\">\n",
       "<span class=\"score\" id=\"score_18336069\">35 points</span> by <a class=\"hnuser\" href=\"user?id=cpdt\">cpdt</a> <span class=\"age\"><a href=\"item?id=18336069\">5 hours ago</a></span> <span id=\"unv_18336069\"></span> | <a href=\"hide?id=18336069&amp;goto=news\">hide</a> | <a href=\"item?id=18336069\">12 comments</a> </td></tr>\n",
       "<tr class=\"spacer\" style=\"height:5px\"></tr>\n",
       "<tr class=\"athing\" id=\"18353804\">\n",
       "<td align=\"right\" class=\"title\" valign=\"top\"><span class=\"rank\">15.</span></td> <td class=\"votelinks\" valign=\"top\"><center><a href=\"vote?id=18353804&amp;how=up&amp;goto=news\" id=\"up_18353804\"><div class=\"votearrow\" title=\"upvote\"></div></a></center></td><td class=\"title\"><a class=\"storylink\" href=\"https://www.theatlantic.com/science/archive/2018/11/science-full-mavericks-like-my-grandfather-was-his-physics-theory-right/574573/?single_page=true\">My Grandfather Thought He Solved a Cosmic Mystery</a><span class=\"sitebit comhead\"> (<a href=\"from?site=theatlantic.com\"><span class=\"sitestr\">theatlantic.com</span></a>)</span></td></tr><tr><td colspan=\"2\"></td><td class=\"subtext\">\n",
       "<span class=\"score\" id=\"score_18353804\">27 points</span> by <a class=\"hnuser\" href=\"user?id=gone35\">gone35</a> <span class=\"age\"><a href=\"item?id=18353804\">1 hour ago</a></span> <span id=\"unv_18353804\"></span> | <a href=\"hide?id=18353804&amp;goto=news\">hide</a> | <a href=\"item?id=18353804\">discuss</a> </td></tr>\n",
       "<tr class=\"spacer\" style=\"height:5px\"></tr>\n",
       "<tr class=\"athing\" id=\"18351290\">\n",
       "<td align=\"right\" class=\"title\" valign=\"top\"><span class=\"rank\">16.</span></td> <td class=\"votelinks\" valign=\"top\"><center><a href=\"vote?id=18351290&amp;how=up&amp;goto=news\" id=\"up_18351290\"><div class=\"votearrow\" title=\"upvote\"></div></a></center></td><td class=\"title\"><a class=\"storylink\" href=\"https://arstechnica.com/science/2018/10/danish-physicists-claim-to-cast-doubt-on-detection-of-gravitational-waves/\">Danish physicists claim to cast doubt on detection of gravitational waves</a><span class=\"sitebit comhead\"> (<a href=\"from?site=arstechnica.com\"><span class=\"sitestr\">arstechnica.com</span></a>)</span></td></tr><tr><td colspan=\"2\"></td><td class=\"subtext\">\n",
       "<span class=\"score\" id=\"score_18351290\">106 points</span> by <a class=\"hnuser\" href=\"user?id=okket\">okket</a> <span class=\"age\"><a href=\"item?id=18351290\">11 hours ago</a></span> <span id=\"unv_18351290\"></span> | <a href=\"hide?id=18351290&amp;goto=news\">hide</a> | <a href=\"item?id=18351290\">63 comments</a> </td></tr>\n",
       "<tr class=\"spacer\" style=\"height:5px\"></tr>\n",
       "<tr class=\"athing\" id=\"18352529\">\n",
       "<td align=\"right\" class=\"title\" valign=\"top\"><span class=\"rank\">17.</span></td> <td class=\"votelinks\" valign=\"top\"><center><a href=\"vote?id=18352529&amp;how=up&amp;goto=news\" id=\"up_18352529\"><div class=\"votearrow\" title=\"upvote\"></div></a></center></td><td class=\"title\"><a class=\"storylink\" href=\"https://medium.com/@nodejs/october-brings-node-js-10-x-to-lts-and-node-js-11-to-current-ae19f8f12b51\">October Brings Node.js 10.x to LTS and Node.js 11 to Current</a><span class=\"sitebit comhead\"> (<a href=\"from?site=medium.com\"><span class=\"sitestr\">medium.com</span></a>)</span></td></tr><tr><td colspan=\"2\"></td><td class=\"subtext\">\n",
       "<span class=\"score\" id=\"score_18352529\">126 points</span> by <a class=\"hnuser\" href=\"user?id=truth_seeker\">truth_seeker</a> <span class=\"age\"><a href=\"item?id=18352529\">4 hours ago</a></span> <span id=\"unv_18352529\"></span> | <a href=\"hide?id=18352529&amp;goto=news\">hide</a> | <a href=\"item?id=18352529\">31 comments</a> </td></tr>\n",
       "<tr class=\"spacer\" style=\"height:5px\"></tr>\n",
       "<tr class=\"athing\" id=\"18354609\">\n",
       "<td align=\"right\" class=\"title\" valign=\"top\"><span class=\"rank\">18.</span></td> <td class=\"votelinks\" valign=\"top\"><center><a href=\"vote?id=18354609&amp;how=up&amp;goto=news\" id=\"up_18354609\"><div class=\"votearrow\" title=\"upvote\"></div></a></center></td><td class=\"title\"><a class=\"storylink\" href=\"https://www.macrumors.com/2018/11/01/2018-ipad-pro-benchmarks-geekbench/\">New iPad Pro Has Comparable Performance to 2018 15“ MacBook Pro in Benchmarks</a><span class=\"sitebit comhead\"> (<a href=\"from?site=macrumors.com\"><span class=\"sitestr\">macrumors.com</span></a>)</span></td></tr><tr><td colspan=\"2\"></td><td class=\"subtext\">\n",
       "<span class=\"score\" id=\"score_18354609\">11 points</span> by <a class=\"hnuser\" href=\"user?id=ghobs91\">ghobs91</a> <span class=\"age\"><a href=\"item?id=18354609\">17 minutes ago</a></span> <span id=\"unv_18354609\"></span> | <a href=\"hide?id=18354609&amp;goto=news\">hide</a> | <a href=\"item?id=18354609\">1 comment</a> </td></tr>\n",
       "<tr class=\"spacer\" style=\"height:5px\"></tr>\n",
       "<tr class=\"athing\" id=\"18351312\">\n",
       "<td align=\"right\" class=\"title\" valign=\"top\"><span class=\"rank\">19.</span></td> <td class=\"votelinks\" valign=\"top\"><center><a href=\"vote?id=18351312&amp;how=up&amp;goto=news\" id=\"up_18351312\"><div class=\"votearrow\" title=\"upvote\"></div></a></center></td><td class=\"title\"><a class=\"storylink\" href=\"https://hadrienj.github.io/posts/Deep-Learning-Book-Series-Introduction/\">Getting started with linear algebra</a><span class=\"sitebit comhead\"> (<a href=\"from?site=hadrienj.github.io\"><span class=\"sitestr\">hadrienj.github.io</span></a>)</span></td></tr><tr><td colspan=\"2\"></td><td class=\"subtext\">\n",
       "<span class=\"score\" id=\"score_18351312\">108 points</span> by <a class=\"hnuser\" href=\"user?id=ghosthamlet\">ghosthamlet</a> <span class=\"age\"><a href=\"item?id=18351312\">11 hours ago</a></span> <span id=\"unv_18351312\"></span> | <a href=\"hide?id=18351312&amp;goto=news\">hide</a> | <a href=\"item?id=18351312\">11 comments</a> </td></tr>\n",
       "<tr class=\"spacer\" style=\"height:5px\"></tr>\n",
       "<tr class=\"athing\" id=\"18347003\">\n",
       "<td align=\"right\" class=\"title\" valign=\"top\"><span class=\"rank\">20.</span></td> <td class=\"votelinks\" valign=\"top\"><center><a href=\"vote?id=18347003&amp;how=up&amp;goto=news\" id=\"up_18347003\"><div class=\"votearrow\" title=\"upvote\"></div></a></center></td><td class=\"title\"><a class=\"storylink\" href=\"http://stmaryvalleybloom.org/pascal-diversion.html\">What Our Diversions Reveal about Us (1670)</a><span class=\"sitebit comhead\"> (<a href=\"from?site=stmaryvalleybloom.org\"><span class=\"sitestr\">stmaryvalleybloom.org</span></a>)</span></td></tr><tr><td colspan=\"2\"></td><td class=\"subtext\">\n",
       "<span class=\"score\" id=\"score_18347003\">58 points</span> by <a class=\"hnuser\" href=\"user?id=erwan\">erwan</a> <span class=\"age\"><a href=\"item?id=18347003\">7 hours ago</a></span> <span id=\"unv_18347003\"></span> | <a href=\"hide?id=18347003&amp;goto=news\">hide</a> | <a href=\"item?id=18347003\">8 comments</a> </td></tr>\n",
       "<tr class=\"spacer\" style=\"height:5px\"></tr>\n",
       "<tr class=\"athing\" id=\"18343860\">\n",
       "<td align=\"right\" class=\"title\" valign=\"top\"><span class=\"rank\">21.</span></td> <td class=\"votelinks\" valign=\"top\"><center><a href=\"vote?id=18343860&amp;how=up&amp;goto=news\" id=\"up_18343860\"><div class=\"votearrow\" title=\"upvote\"></div></a></center></td><td class=\"title\"><a class=\"storylink\" href=\"https://www.bbc.com/news/world-us-canada-45983540\">Canada's last witch trials: Women accused of fake witchcraft</a><span class=\"sitebit comhead\"> (<a href=\"from?site=bbc.com\"><span class=\"sitestr\">bbc.com</span></a>)</span></td></tr><tr><td colspan=\"2\"></td><td class=\"subtext\">\n",
       "<span class=\"score\" id=\"score_18343860\">37 points</span> by <a class=\"hnuser\" href=\"user?id=Thevet\">Thevet</a> <span class=\"age\"><a href=\"item?id=18343860\">7 hours ago</a></span> <span id=\"unv_18343860\"></span> | <a href=\"hide?id=18343860&amp;goto=news\">hide</a> | <a href=\"item?id=18343860\">34 comments</a> </td></tr>\n",
       "<tr class=\"spacer\" style=\"height:5px\"></tr>\n",
       "<tr class=\"athing\" id=\"18344457\">\n",
       "<td align=\"right\" class=\"title\" valign=\"top\"><span class=\"rank\">22.</span></td> <td class=\"votelinks\" valign=\"top\"><center><a href=\"vote?id=18344457&amp;how=up&amp;goto=news\" id=\"up_18344457\"><div class=\"votearrow\" title=\"upvote\"></div></a></center></td><td class=\"title\"><a class=\"storylink\" href=\"https://www.bbc.co.uk/news/world-asia-china-46040266\">Jin Yong, the 'Tolkien of Chinese literature', has died</a><span class=\"sitebit comhead\"> (<a href=\"from?site=bbc.co.uk\"><span class=\"sitestr\">bbc.co.uk</span></a>)</span></td></tr><tr><td colspan=\"2\"></td><td class=\"subtext\">\n",
       "<span class=\"score\" id=\"score_18344457\">104 points</span> by <a class=\"hnuser\" href=\"user?id=YeGoblynQueenne\">YeGoblynQueenne</a> <span class=\"age\"><a href=\"item?id=18344457\">11 hours ago</a></span> <span id=\"unv_18344457\"></span> | <a href=\"hide?id=18344457&amp;goto=news\">hide</a> | <a href=\"item?id=18344457\">78 comments</a> </td></tr>\n",
       "<tr class=\"spacer\" style=\"height:5px\"></tr>\n",
       "<tr class=\"athing\" id=\"18349887\">\n",
       "<td align=\"right\" class=\"title\" valign=\"top\"><span class=\"rank\">23.</span></td> <td class=\"votelinks\" valign=\"top\"><center><a href=\"vote?id=18349887&amp;how=up&amp;goto=news\" id=\"up_18349887\"><div class=\"votearrow\" title=\"upvote\"></div></a></center></td><td class=\"title\"><a class=\"storylink\" href=\"https://security.googleblog.com/2018/10/announcing-some-security-treats-to.html\">JavaScript is now required to sign in to Google</a><span class=\"sitebit comhead\"> (<a href=\"from?site=googleblog.com\"><span class=\"sitestr\">googleblog.com</span></a>)</span></td></tr><tr><td colspan=\"2\"></td><td class=\"subtext\">\n",
       "<span class=\"score\" id=\"score_18349887\">485 points</span> by <a class=\"hnuser\" href=\"user?id=amaccuish\">amaccuish</a> <span class=\"age\"><a href=\"item?id=18349887\">16 hours ago</a></span> <span id=\"unv_18349887\"></span> | <a href=\"hide?id=18349887&amp;goto=news\">hide</a> | <a href=\"item?id=18349887\">414 comments</a> </td></tr>\n",
       "<tr class=\"spacer\" style=\"height:5px\"></tr>\n",
       "<tr class=\"athing\" id=\"18346463\">\n",
       "<td align=\"right\" class=\"title\" valign=\"top\"><span class=\"rank\">24.</span></td> <td class=\"votelinks\" valign=\"top\"><center><a href=\"vote?id=18346463&amp;how=up&amp;goto=news\" id=\"up_18346463\"><div class=\"votearrow\" title=\"upvote\"></div></a></center></td><td class=\"title\"><a class=\"storylink\" href=\"https://www.native-instruments.com/fileadmin/ni_media/downloads/pdf/VAFilterDesign_2.1.0.pdf\">The art of Virtual Analog filter design [pdf]</a><span class=\"sitebit comhead\"> (<a href=\"from?site=native-instruments.com\"><span class=\"sitestr\">native-instruments.com</span></a>)</span></td></tr><tr><td colspan=\"2\"></td><td class=\"subtext\">\n",
       "<span class=\"score\" id=\"score_18346463\">72 points</span> by <a class=\"hnuser\" href=\"user?id=unsatchmo\">unsatchmo</a> <span class=\"age\"><a href=\"item?id=18346463\">10 hours ago</a></span> <span id=\"unv_18346463\"></span> | <a href=\"hide?id=18346463&amp;goto=news\">hide</a> | <a href=\"item?id=18346463\">6 comments</a> </td></tr>\n",
       "<tr class=\"spacer\" style=\"height:5px\"></tr>\n",
       "<tr class=\"athing\" id=\"18350620\">\n",
       "<td align=\"right\" class=\"title\" valign=\"top\"><span class=\"rank\">25.</span></td> <td class=\"votelinks\" valign=\"top\"><center><a href=\"vote?id=18350620&amp;how=up&amp;goto=news\" id=\"up_18350620\"><div class=\"votearrow\" title=\"upvote\"></div></a></center></td><td class=\"title\"><a class=\"storylink\" href=\"https://www.timesofisrael.com/tv-report-israel-silent-as-iran-hit-by-computer-virus-more-violent-than-stuxnet/\">Israel silent as Iran hit by computer virus more violent than Stuxnet – report</a><span class=\"sitebit comhead\"> (<a href=\"from?site=timesofisrael.com\"><span class=\"sitestr\">timesofisrael.com</span></a>)</span></td></tr><tr><td colspan=\"2\"></td><td class=\"subtext\">\n",
       "<span class=\"score\" id=\"score_18350620\">173 points</span> by <a class=\"hnuser\" href=\"user?id=chablent\">chablent</a> <span class=\"age\"><a href=\"item?id=18350620\">14 hours ago</a></span> <span id=\"unv_18350620\"></span> | <a href=\"hide?id=18350620&amp;goto=news\">hide</a> | <a href=\"item?id=18350620\">63 comments</a> </td></tr>\n",
       "<tr class=\"spacer\" style=\"height:5px\"></tr>\n",
       "<tr class=\"athing\" id=\"18352171\">\n",
       "<td align=\"right\" class=\"title\" valign=\"top\"><span class=\"rank\">26.</span></td> <td class=\"votelinks\" valign=\"top\"><center><a href=\"vote?id=18352171&amp;how=up&amp;goto=news\" id=\"up_18352171\"><div class=\"votearrow\" title=\"upvote\"></div></a></center></td><td class=\"title\"><a class=\"storylink\" href=\"https://lwn.net/Articles/768670/\">Making the GPL more scary</a><span class=\"sitebit comhead\"> (<a href=\"from?site=lwn.net\"><span class=\"sitestr\">lwn.net</span></a>)</span></td></tr><tr><td colspan=\"2\"></td><td class=\"subtext\">\n",
       "<span class=\"score\" id=\"score_18352171\">120 points</span> by <a class=\"hnuser\" href=\"user?id=janvdberg\">janvdberg</a> <span class=\"age\"><a href=\"item?id=18352171\">6 hours ago</a></span> <span id=\"unv_18352171\"></span> | <a href=\"hide?id=18352171&amp;goto=news\">hide</a> | <a href=\"item?id=18352171\">91 comments</a> </td></tr>\n",
       "<tr class=\"spacer\" style=\"height:5px\"></tr>\n",
       "<tr class=\"athing\" id=\"18349421\">\n",
       "<td align=\"right\" class=\"title\" valign=\"top\"><span class=\"rank\">27.</span></td> <td class=\"votelinks\" valign=\"top\"><center><a href=\"vote?id=18349421&amp;how=up&amp;goto=news\" id=\"up_18349421\"><div class=\"votearrow\" title=\"upvote\"></div></a></center></td><td class=\"title\"><a class=\"storylink\" href=\"https://www.levels.fyi/SE/Google/Facebook/Microsoft\">Compare career levels across companies</a><span class=\"sitebit comhead\"> (<a href=\"from?site=levels.fyi\"><span class=\"sitestr\">levels.fyi</span></a>)</span></td></tr><tr><td colspan=\"2\"></td><td class=\"subtext\">\n",
       "<span class=\"score\" id=\"score_18349421\">705 points</span> by <a class=\"hnuser\" href=\"user?id=kposehn\">kposehn</a> <span class=\"age\"><a href=\"item?id=18349421\">17 hours ago</a></span> <span id=\"unv_18349421\"></span> | <a href=\"hide?id=18349421&amp;goto=news\">hide</a> | <a href=\"item?id=18349421\">345 comments</a> </td></tr>\n",
       "<tr class=\"spacer\" style=\"height:5px\"></tr>\n",
       "<tr class=\"athing\" id=\"18353008\">\n",
       "<td align=\"right\" class=\"title\" valign=\"top\"><span class=\"rank\">28.</span></td> <td class=\"votelinks\" valign=\"top\"><center><a href=\"vote?id=18353008&amp;how=up&amp;goto=news\" id=\"up_18353008\"><div class=\"votearrow\" title=\"upvote\"></div></a></center></td><td class=\"title\"><a class=\"storylink\" href=\"https://arstechnica.com/tech-policy/2018/11/most-litigious-patent-enforcer-in-us-calls-it-quits-files-bankruptcy/\">Notorious patent enforcement entity values its entire portfolio at $2, folds</a><span class=\"sitebit comhead\"> (<a href=\"from?site=arstechnica.com\"><span class=\"sitestr\">arstechnica.com</span></a>)</span></td></tr><tr><td colspan=\"2\"></td><td class=\"subtext\">\n",
       "<span class=\"score\" id=\"score_18353008\">33 points</span> by <a class=\"hnuser\" href=\"user?id=bovermyer\">bovermyer</a> <span class=\"age\"><a href=\"item?id=18353008\">3 hours ago</a></span> <span id=\"unv_18353008\"></span> | <a href=\"hide?id=18353008&amp;goto=news\">hide</a> | <a href=\"item?id=18353008\">5 comments</a> </td></tr>\n",
       "<tr class=\"spacer\" style=\"height:5px\"></tr>\n",
       "<tr class=\"athing\" id=\"18351674\">\n",
       "<td align=\"right\" class=\"title\" valign=\"top\"><span class=\"rank\">29.</span></td> <td class=\"votelinks\" valign=\"top\"><center><a href=\"vote?id=18351674&amp;how=up&amp;goto=news\" id=\"up_18351674\"><div class=\"votearrow\" title=\"upvote\"></div></a></center></td><td class=\"title\"><a class=\"storylink\" href=\"https://jalammar.github.io/illustrated-transformer/\">The Illustrated Transformer</a><span class=\"sitebit comhead\"> (<a href=\"from?site=jalammar.github.io\"><span class=\"sitestr\">jalammar.github.io</span></a>)</span></td></tr><tr><td colspan=\"2\"></td><td class=\"subtext\">\n",
       "<span class=\"score\" id=\"score_18351674\">46 points</span> by <a class=\"hnuser\" href=\"user?id=ghosthamlet\">ghosthamlet</a> <span class=\"age\"><a href=\"item?id=18351674\">9 hours ago</a></span> <span id=\"unv_18351674\"></span> | <a href=\"hide?id=18351674&amp;goto=news\">hide</a> | <a href=\"item?id=18351674\">2 comments</a> </td></tr>\n",
       "<tr class=\"spacer\" style=\"height:5px\"></tr>\n",
       "<tr class=\"athing\" id=\"18344719\">\n",
       "<td align=\"right\" class=\"title\" valign=\"top\"><span class=\"rank\">30.</span></td> <td class=\"votelinks\" valign=\"top\"><center><a href=\"vote?id=18344719&amp;how=up&amp;goto=news\" id=\"up_18344719\"><div class=\"votearrow\" title=\"upvote\"></div></a></center></td><td class=\"title\"><a class=\"storylink\" href=\"https://www.japantimes.co.jp/life/2018/10/29/language/ghost-kanji-lurk-japanese-lexicon/\">‘Ghost kanji’ lurk in the Japanese lexicon</a><span class=\"sitebit comhead\"> (<a href=\"from?site=japantimes.co.jp\"><span class=\"sitestr\">japantimes.co.jp</span></a>)</span></td></tr><tr><td colspan=\"2\"></td><td class=\"subtext\">\n",
       "<span class=\"score\" id=\"score_18344719\">81 points</span> by <a class=\"hnuser\" href=\"user?id=camtarn\">camtarn</a> <span class=\"age\"><a href=\"item?id=18344719\">14 hours ago</a></span> <span id=\"unv_18344719\"></span> | <a href=\"hide?id=18344719&amp;goto=news\">hide</a> | <a href=\"item?id=18344719\">11 comments</a> </td></tr>\n",
       "<tr class=\"spacer\" style=\"height:5px\"></tr>\n",
       "<tr class=\"morespace\" style=\"height:10px\"></tr><tr><td colspan=\"2\"></td><td class=\"title\"><a class=\"morelink\" href=\"news?p=2\" rel=\"nofollow\">More</a></td></tr>\n",
       "</table>\n",
       "</td></tr>\n",
       "<tr><td><img height=\"10\" src=\"s.gif\" width=\"0\"/><table cellpadding=\"1\" cellspacing=\"0\" width=\"100%\"><tr><td bgcolor=\"#ff6600\"></td></tr></table><br/><center><span class=\"yclinks\"><a href=\"newsguidelines.html\">Guidelines</a>\n",
       "        | <a href=\"newsfaq.html\">FAQ</a>\n",
       "        | <a href=\"mailto:hn@ycombinator.com\">Support</a>\n",
       "        | <a href=\"https://github.com/HackerNews/API\">API</a>\n",
       "        | <a href=\"security.html\">Security</a>\n",
       "        | <a href=\"lists\">Lists</a>\n",
       "        | <a href=\"bookmarklet.html\" rel=\"nofollow\">Bookmarklet</a>\n",
       "        | <a href=\"http://www.ycombinator.com/legal/\">Legal</a>\n",
       "        | <a href=\"http://www.ycombinator.com/apply/\">Apply to YC</a>\n",
       "        | <a href=\"mailto:hn@ycombinator.com\">Contact</a></span><br/><br/><form action=\"//hn.algolia.com/\" method=\"get\">Search:\n",
       "          <input autocapitalize=\"off\" autocomplete=\"false\" autocorrect=\"off\" name=\"q\" size=\"17\" spellcheck=\"false\" type=\"text\" value=\"\"/></form>\n",
       "</center></td></tr>\n",
       "</table></center></body><script src=\"hn.js?ZgWrjiWrXzuQqi1Trwyl\" type=\"text/javascript\"></script>\n",
       "</html>"
      ]
     },
     "execution_count": 8,
     "metadata": {},
     "output_type": "execute_result"
    }
   ],
   "source": [
    "mypage"
   ]
  },
  {
   "cell_type": "code",
   "execution_count": 9,
   "metadata": {},
   "outputs": [],
   "source": [
    "links=mypage.find_all(\"a\",attrs={\"class\":\"storylink\"})"
   ]
  },
  {
   "cell_type": "code",
   "execution_count": 20,
   "metadata": {},
   "outputs": [
    {
     "data": {
      "text/plain": [
       "[<a class=\"storylink\" href=\"http://cryto.net/~joepie91/blog/2016/06/13/stop-using-jwt-for-sessions/\">Stop using JWT for sessions (2016)</a>,\n",
       " <a class=\"storylink\" href=\"https://www.reuters.com/article/us-technology-www/father-of-web-says-tech-giants-may-have-to-be-split-up-idUSKCN1N63MV\">Father of Web says tech giants may have to be split up</a>,\n",
       " <a class=\"storylink\" href=\"https://blog.flickr.net/en/2018/11/01/changing-flickr-free-accounts-1000-photos/\">Why we’re changing Flickr free accounts</a>,\n",
       " <a class=\"storylink\" href=\"https://www.pipelinedb.com/blog/three-sales-mistakes-software-engineers-make\">Sales mistakes that software engineers make</a>,\n",
       " <a class=\"storylink\" href=\"item?id=18354503\">Ask HN: Who is hiring? (November 2018)</a>,\n",
       " <a class=\"storylink\" href=\"https://www.vuedarkmode.com/\">Show HN: Vue Dark Mode – A Minimalist Dark Design System for Vue.js</a>,\n",
       " <a class=\"storylink\" href=\"https://techcrunch.com/2018/11/01/neo4j-nabs-80m-series-e-as-graph-database-tech-matures/\">Neo4j nabs $80M Series E as graph database tech flourishes</a>,\n",
       " <a class=\"storylink\" href=\"https://www.silasreinagel.com/blog/2018/10/30/indirection-is-not-abstraction/\">Indirection Is Not Abstraction</a>,\n",
       " <a class=\"storylink\" href=\"http://www.solarfoods.fi/\">Solar foods</a>,\n",
       " <a class=\"storylink\" href=\"https://www.nature.com/articles/d41586-018-07183-6\">Protect the last of the wild</a>,\n",
       " <a class=\"storylink\" href=\"https://jalammar.github.io/gentle-visual-intro-to-data-analysis-python-pandas/\">A Gentle Visual Intro to Data Analysis in Python Using Pandas</a>,\n",
       " <a class=\"storylink\" href=\"https://gizmodo.com/an-ai-lie-detector-is-going-to-start-questioning-travel-1830126881\">An AI Lie Detector Is Going to Start Questioning Travelers in the EU</a>,\n",
       " <a class=\"storylink\" href=\"https://www.quitgenius.com/careers/ui-ux-designer-apply/\" rel=\"nofollow\">Quit  Genius (YC W18) looking for UI/UX Designer to build next-gen digital therapies</a>,\n",
       " <a class=\"storylink\" href=\"https://github.com/monadgroup/axiom\">Show HN: A realtime node-based audio synth based on LLVM</a>,\n",
       " <a class=\"storylink\" href=\"https://www.theatlantic.com/science/archive/2018/11/science-full-mavericks-like-my-grandfather-was-his-physics-theory-right/574573/?single_page=true\">My Grandfather Thought He Solved a Cosmic Mystery</a>,\n",
       " <a class=\"storylink\" href=\"https://arstechnica.com/science/2018/10/danish-physicists-claim-to-cast-doubt-on-detection-of-gravitational-waves/\">Danish physicists claim to cast doubt on detection of gravitational waves</a>,\n",
       " <a class=\"storylink\" href=\"https://medium.com/@nodejs/october-brings-node-js-10-x-to-lts-and-node-js-11-to-current-ae19f8f12b51\">October Brings Node.js 10.x to LTS and Node.js 11 to Current</a>,\n",
       " <a class=\"storylink\" href=\"https://www.macrumors.com/2018/11/01/2018-ipad-pro-benchmarks-geekbench/\">New iPad Pro Has Comparable Performance to 2018 15“ MacBook Pro in Benchmarks</a>,\n",
       " <a class=\"storylink\" href=\"https://hadrienj.github.io/posts/Deep-Learning-Book-Series-Introduction/\">Getting started with linear algebra</a>,\n",
       " <a class=\"storylink\" href=\"http://stmaryvalleybloom.org/pascal-diversion.html\">What Our Diversions Reveal about Us (1670)</a>,\n",
       " <a class=\"storylink\" href=\"https://www.bbc.com/news/world-us-canada-45983540\">Canada's last witch trials: Women accused of fake witchcraft</a>,\n",
       " <a class=\"storylink\" href=\"https://www.bbc.co.uk/news/world-asia-china-46040266\">Jin Yong, the 'Tolkien of Chinese literature', has died</a>,\n",
       " <a class=\"storylink\" href=\"https://security.googleblog.com/2018/10/announcing-some-security-treats-to.html\">JavaScript is now required to sign in to Google</a>,\n",
       " <a class=\"storylink\" href=\"https://www.native-instruments.com/fileadmin/ni_media/downloads/pdf/VAFilterDesign_2.1.0.pdf\">The art of Virtual Analog filter design [pdf]</a>,\n",
       " <a class=\"storylink\" href=\"https://www.timesofisrael.com/tv-report-israel-silent-as-iran-hit-by-computer-virus-more-violent-than-stuxnet/\">Israel silent as Iran hit by computer virus more violent than Stuxnet – report</a>,\n",
       " <a class=\"storylink\" href=\"https://lwn.net/Articles/768670/\">Making the GPL more scary</a>,\n",
       " <a class=\"storylink\" href=\"https://www.levels.fyi/SE/Google/Facebook/Microsoft\">Compare career levels across companies</a>,\n",
       " <a class=\"storylink\" href=\"https://arstechnica.com/tech-policy/2018/11/most-litigious-patent-enforcer-in-us-calls-it-quits-files-bankruptcy/\">Notorious patent enforcement entity values its entire portfolio at $2, folds</a>,\n",
       " <a class=\"storylink\" href=\"https://jalammar.github.io/illustrated-transformer/\">The Illustrated Transformer</a>,\n",
       " <a class=\"storylink\" href=\"https://www.japantimes.co.jp/life/2018/10/29/language/ghost-kanji-lurk-japanese-lexicon/\">‘Ghost kanji’ lurk in the Japanese lexicon</a>]"
      ]
     },
     "execution_count": 20,
     "metadata": {},
     "output_type": "execute_result"
    }
   ],
   "source": [
    "links"
   ]
  },
  {
   "cell_type": "code",
   "execution_count": 11,
   "metadata": {},
   "outputs": [
    {
     "data": {
      "text/plain": [
       "'https://www.reuters.com/article/us-technology-www/father-of-web-says-tech-giants-may-have-to-be-split-up-idUSKCN1N63MV'"
      ]
     },
     "execution_count": 11,
     "metadata": {},
     "output_type": "execute_result"
    }
   ],
   "source": [
    "links[1][\"href\"]"
   ]
  },
  {
   "cell_type": "code",
   "execution_count": 12,
   "metadata": {},
   "outputs": [
    {
     "name": "stdout",
     "output_type": "stream",
     "text": [
      "http://cryto.net/~joepie91/blog/2016/06/13/stop-using-jwt-for-sessions/\n",
      "https://www.reuters.com/article/us-technology-www/father-of-web-says-tech-giants-may-have-to-be-split-up-idUSKCN1N63MV\n",
      "https://blog.flickr.net/en/2018/11/01/changing-flickr-free-accounts-1000-photos/\n",
      "https://www.pipelinedb.com/blog/three-sales-mistakes-software-engineers-make\n",
      "item?id=18354503\n",
      "https://www.vuedarkmode.com/\n",
      "https://techcrunch.com/2018/11/01/neo4j-nabs-80m-series-e-as-graph-database-tech-matures/\n",
      "https://www.silasreinagel.com/blog/2018/10/30/indirection-is-not-abstraction/\n",
      "http://www.solarfoods.fi/\n",
      "https://www.nature.com/articles/d41586-018-07183-6\n",
      "https://jalammar.github.io/gentle-visual-intro-to-data-analysis-python-pandas/\n",
      "https://gizmodo.com/an-ai-lie-detector-is-going-to-start-questioning-travel-1830126881\n",
      "https://www.quitgenius.com/careers/ui-ux-designer-apply/\n",
      "https://github.com/monadgroup/axiom\n",
      "https://www.theatlantic.com/science/archive/2018/11/science-full-mavericks-like-my-grandfather-was-his-physics-theory-right/574573/?single_page=true\n",
      "https://arstechnica.com/science/2018/10/danish-physicists-claim-to-cast-doubt-on-detection-of-gravitational-waves/\n",
      "https://medium.com/@nodejs/october-brings-node-js-10-x-to-lts-and-node-js-11-to-current-ae19f8f12b51\n",
      "https://www.macrumors.com/2018/11/01/2018-ipad-pro-benchmarks-geekbench/\n",
      "https://hadrienj.github.io/posts/Deep-Learning-Book-Series-Introduction/\n",
      "http://stmaryvalleybloom.org/pascal-diversion.html\n",
      "https://www.bbc.com/news/world-us-canada-45983540\n",
      "https://www.bbc.co.uk/news/world-asia-china-46040266\n",
      "https://security.googleblog.com/2018/10/announcing-some-security-treats-to.html\n",
      "https://www.native-instruments.com/fileadmin/ni_media/downloads/pdf/VAFilterDesign_2.1.0.pdf\n",
      "https://www.timesofisrael.com/tv-report-israel-silent-as-iran-hit-by-computer-virus-more-violent-than-stuxnet/\n",
      "https://lwn.net/Articles/768670/\n",
      "https://www.levels.fyi/SE/Google/Facebook/Microsoft\n",
      "https://arstechnica.com/tech-policy/2018/11/most-litigious-patent-enforcer-in-us-calls-it-quits-files-bankruptcy/\n",
      "https://jalammar.github.io/illustrated-transformer/\n",
      "https://www.japantimes.co.jp/life/2018/10/29/language/ghost-kanji-lurk-japanese-lexicon/\n"
     ]
    }
   ],
   "source": [
    "for i in range(len(links)):\n",
    "    link=links[i][\"href\"]\n",
    "    print(link)"
   ]
  },
  {
   "cell_type": "code",
   "execution_count": 13,
   "metadata": {},
   "outputs": [
    {
     "data": {
      "text/plain": [
       "'Father of Web says tech giants may have to be split up'"
      ]
     },
     "execution_count": 13,
     "metadata": {},
     "output_type": "execute_result"
    }
   ],
   "source": [
    "links[1].text"
   ]
  },
  {
   "cell_type": "code",
   "execution_count": 14,
   "metadata": {},
   "outputs": [
    {
     "name": "stdout",
     "output_type": "stream",
     "text": [
      "Stop using JWT for sessions (2016)\n",
      "Father of Web says tech giants may have to be split up\n",
      "Why we’re changing Flickr free accounts\n",
      "Sales mistakes that software engineers make\n",
      "Ask HN: Who is hiring? (November 2018)\n",
      "Show HN: Vue Dark Mode – A Minimalist Dark Design System for Vue.js\n",
      "Neo4j nabs $80M Series E as graph database tech flourishes\n",
      "Indirection Is Not Abstraction\n",
      "Solar foods\n",
      "Protect the last of the wild\n",
      "A Gentle Visual Intro to Data Analysis in Python Using Pandas\n",
      "An AI Lie Detector Is Going to Start Questioning Travelers in the EU\n",
      "Quit  Genius (YC W18) looking for UI/UX Designer to build next-gen digital therapies\n",
      "Show HN: A realtime node-based audio synth based on LLVM\n",
      "My Grandfather Thought He Solved a Cosmic Mystery\n",
      "Danish physicists claim to cast doubt on detection of gravitational waves\n",
      "October Brings Node.js 10.x to LTS and Node.js 11 to Current\n",
      "New iPad Pro Has Comparable Performance to 2018 15“ MacBook Pro in Benchmarks\n",
      "Getting started with linear algebra\n",
      "What Our Diversions Reveal about Us (1670)\n",
      "Canada's last witch trials: Women accused of fake witchcraft\n",
      "Jin Yong, the 'Tolkien of Chinese literature', has died\n",
      "JavaScript is now required to sign in to Google\n",
      "The art of Virtual Analog filter design [pdf]\n",
      "Israel silent as Iran hit by computer virus more violent than Stuxnet – report\n",
      "Making the GPL more scary\n",
      "Compare career levels across companies\n",
      "Notorious patent enforcement entity values its entire portfolio at $2, folds\n",
      "The Illustrated Transformer\n",
      "‘Ghost kanji’ lurk in the Japanese lexicon\n"
     ]
    }
   ],
   "source": [
    "for i in range(len(links)):\n",
    "    a=links[i].text\n",
    "    print(a)\n"
   ]
  },
  {
   "cell_type": "code",
   "execution_count": 15,
   "metadata": {},
   "outputs": [],
   "source": [
    "points=mypage.find_all(\"span\",attrs={\"class\":\"score\"})"
   ]
  },
  {
   "cell_type": "code",
   "execution_count": 16,
   "metadata": {},
   "outputs": [
    {
     "data": {
      "text/plain": [
       "[<span class=\"score\" id=\"score_18353874\">129 points</span>,\n",
       " <span class=\"score\" id=\"score_18353425\">128 points</span>,\n",
       " <span class=\"score\" id=\"score_18354066\">68 points</span>,\n",
       " <span class=\"score\" id=\"score_18351891\">366 points</span>,\n",
       " <span class=\"score\" id=\"score_18354503\">30 points</span>,\n",
       " <span class=\"score\" id=\"score_18352490\">86 points</span>,\n",
       " <span class=\"score\" id=\"score_18352754\">128 points</span>,\n",
       " <span class=\"score\" id=\"score_18344033\">18 points</span>,\n",
       " <span class=\"score\" id=\"score_18344636\">89 points</span>,\n",
       " <span class=\"score\" id=\"score_18351654\">131 points</span>,\n",
       " <span class=\"score\" id=\"score_18351685\">128 points</span>,\n",
       " <span class=\"score\" id=\"score_18351733\">117 points</span>,\n",
       " <span class=\"score\" id=\"score_18336069\">35 points</span>,\n",
       " <span class=\"score\" id=\"score_18353804\">27 points</span>,\n",
       " <span class=\"score\" id=\"score_18351290\">106 points</span>,\n",
       " <span class=\"score\" id=\"score_18352529\">126 points</span>,\n",
       " <span class=\"score\" id=\"score_18354609\">11 points</span>,\n",
       " <span class=\"score\" id=\"score_18351312\">108 points</span>,\n",
       " <span class=\"score\" id=\"score_18347003\">58 points</span>,\n",
       " <span class=\"score\" id=\"score_18343860\">37 points</span>,\n",
       " <span class=\"score\" id=\"score_18344457\">104 points</span>,\n",
       " <span class=\"score\" id=\"score_18349887\">485 points</span>,\n",
       " <span class=\"score\" id=\"score_18346463\">72 points</span>,\n",
       " <span class=\"score\" id=\"score_18350620\">173 points</span>,\n",
       " <span class=\"score\" id=\"score_18352171\">120 points</span>,\n",
       " <span class=\"score\" id=\"score_18349421\">705 points</span>,\n",
       " <span class=\"score\" id=\"score_18353008\">33 points</span>,\n",
       " <span class=\"score\" id=\"score_18351674\">46 points</span>,\n",
       " <span class=\"score\" id=\"score_18344719\">81 points</span>]"
      ]
     },
     "execution_count": 16,
     "metadata": {},
     "output_type": "execute_result"
    }
   ],
   "source": [
    "points"
   ]
  },
  {
   "cell_type": "code",
   "execution_count": 17,
   "metadata": {},
   "outputs": [
    {
     "data": {
      "text/plain": [
       "'128 points'"
      ]
     },
     "execution_count": 17,
     "metadata": {},
     "output_type": "execute_result"
    }
   ],
   "source": [
    "points[1].text"
   ]
  },
  {
   "cell_type": "code",
   "execution_count": 18,
   "metadata": {},
   "outputs": [
    {
     "name": "stdout",
     "output_type": "stream",
     "text": [
      "129 points\n",
      "128 points\n",
      "68 points\n",
      "366 points\n",
      "30 points\n",
      "86 points\n",
      "128 points\n",
      "18 points\n",
      "89 points\n",
      "131 points\n",
      "128 points\n",
      "117 points\n",
      "35 points\n",
      "27 points\n",
      "106 points\n",
      "126 points\n",
      "11 points\n",
      "108 points\n",
      "58 points\n",
      "37 points\n",
      "104 points\n",
      "485 points\n",
      "72 points\n",
      "173 points\n",
      "120 points\n",
      "705 points\n",
      "33 points\n",
      "46 points\n",
      "81 points\n"
     ]
    }
   ],
   "source": [
    "for i in range(len(points)):\n",
    "    point=points[i].text\n",
    "    print(point)"
   ]
  },
  {
   "cell_type": "code",
   "execution_count": null,
   "metadata": {},
   "outputs": [],
   "source": []
  },
  {
   "cell_type": "code",
   "execution_count": null,
   "metadata": {},
   "outputs": [],
   "source": []
  },
  {
   "cell_type": "code",
   "execution_count": null,
   "metadata": {},
   "outputs": [],
   "source": []
  }
 ],
 "metadata": {
  "kernelspec": {
   "display_name": "Python 3",
   "language": "python",
   "name": "python3"
  },
  "language_info": {
   "codemirror_mode": {
    "name": "ipython",
    "version": 3
   },
   "file_extension": ".py",
   "mimetype": "text/x-python",
   "name": "python",
   "nbconvert_exporter": "python",
   "pygments_lexer": "ipython3",
   "version": "3.7.0"
  }
 },
 "nbformat": 4,
 "nbformat_minor": 2
}
