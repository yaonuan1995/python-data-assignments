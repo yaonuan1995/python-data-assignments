{
 "cells": [
  {
   "cell_type": "code",
   "execution_count": 1,
   "metadata": {},
   "outputs": [],
   "source": [
    "import requests\n",
    "import csv"
   ]
  },
  {
   "cell_type": "code",
   "execution_count": 2,
   "metadata": {},
   "outputs": [],
   "source": [
    "from bs4 import BeautifulSoup"
   ]
  },
  {
   "cell_type": "code",
   "execution_count": 3,
   "metadata": {},
   "outputs": [],
   "source": [
    "r = requests.get('https://www.apnews.com')"
   ]
  },
  {
   "cell_type": "code",
   "execution_count": 4,
   "metadata": {},
   "outputs": [],
   "source": [
    "ap_str = r.text\n",
    "# ap_str"
   ]
  },
  {
   "cell_type": "code",
   "execution_count": 5,
   "metadata": {},
   "outputs": [],
   "source": [
    "data = BeautifulSoup(ap_str,\"html.parser\")"
   ]
  },
  {
   "cell_type": "code",
   "execution_count": 6,
   "metadata": {},
   "outputs": [],
   "source": [
    "# data"
   ]
  },
  {
   "cell_type": "code",
   "execution_count": 7,
   "metadata": {},
   "outputs": [],
   "source": [
    "ap_h1 = data.find_all('h1')\n",
    "# ap_h1"
   ]
  },
  {
   "cell_type": "code",
   "execution_count": 8,
   "metadata": {},
   "outputs": [
    {
     "data": {
      "text/plain": [
       "'Democrats seize House control, but Trump’s GOP holds Senate'"
      ]
     },
     "execution_count": 8,
     "metadata": {},
     "output_type": "execute_result"
    }
   ],
   "source": [
    "ap_h1[1].text.strip()"
   ]
  },
  {
   "cell_type": "code",
   "execution_count": 9,
   "metadata": {},
   "outputs": [],
   "source": [
    "ap_title = []\n",
    "for m in range(len(ap_h1)):\n",
    "    title = ap_h1[m].text.strip()\n",
    "#     print(title)\n",
    "    ap_title.append(title)\n",
    "# ap_title"
   ]
  },
  {
   "cell_type": "code",
   "execution_count": 10,
   "metadata": {},
   "outputs": [],
   "source": [
    "tag = data.find_all('a',attrs = {'class':\"HubTag\"})\n",
    "# tag"
   ]
  },
  {
   "cell_type": "code",
   "execution_count": 11,
   "metadata": {},
   "outputs": [
    {
     "data": {
      "text/plain": [
       "'Raceandethnicity'"
      ]
     },
     "execution_count": 11,
     "metadata": {},
     "output_type": "execute_result"
    }
   ],
   "source": [
    "tag[1]['href'].strip().replace('/',\"\")"
   ]
  },
  {
   "cell_type": "code",
   "execution_count": 12,
   "metadata": {},
   "outputs": [],
   "source": [
    "ap_tag = []\n",
    "for i in range(len(tag)):\n",
    "    a_tag = tag[i]['href'].strip().replace('/',\"\")\n",
    "#     print(a_tag)\n",
    "    ap_tag.append(a_tag)\n",
    "# ap_tag"
   ]
  },
  {
   "cell_type": "code",
   "execution_count": 13,
   "metadata": {},
   "outputs": [],
   "source": [
    "author = data.find_all('span',attrs = {'class':\"byline\"})\n",
    "# author"
   ]
  },
  {
   "cell_type": "code",
   "execution_count": 14,
   "metadata": {},
   "outputs": [
    {
     "data": {
      "text/plain": [
       "'By STEVE PEOPLES and JILL COLVIN'"
      ]
     },
     "execution_count": 14,
     "metadata": {},
     "output_type": "execute_result"
    }
   ],
   "source": [
    "author[1].text"
   ]
  },
  {
   "cell_type": "code",
   "execution_count": 15,
   "metadata": {},
   "outputs": [],
   "source": [
    "ap_author = []\n",
    "for i in range(len(author)):\n",
    "    a = author[i].text.replace(\"By\",\"\")    \n",
    "#     print(a)\n",
    "    ap_author.append(a)\n",
    "# ap_author"
   ]
  },
  {
   "cell_type": "code",
   "execution_count": 16,
   "metadata": {},
   "outputs": [
    {
     "data": {
      "text/plain": [
       "'November 7, 2018'"
      ]
     },
     "execution_count": 16,
     "metadata": {},
     "output_type": "execute_result"
    }
   ],
   "source": [
    "timestamp = data.find_all('span',attrs = {'class':\"Timestamp\"})\n",
    "timestamp[1].text"
   ]
  },
  {
   "cell_type": "code",
   "execution_count": 17,
   "metadata": {},
   "outputs": [],
   "source": [
    "ap_time = []\n",
    "for i in range(len(timestamp)):\n",
    "    a_timestamp = timestamp[1].text\n",
    "    ap_time.append(a_timestamp)\n",
    "# ap_time"
   ]
  },
  {
   "cell_type": "code",
   "execution_count": 18,
   "metadata": {},
   "outputs": [],
   "source": [
    "n = data.find_all('a',attrs = {'class':\"headline\"})\n",
    "# n"
   ]
  },
  {
   "cell_type": "code",
   "execution_count": 19,
   "metadata": {},
   "outputs": [
    {
     "data": {
      "text/plain": [
       "'/c0be062914e048d79f70bcf120e1ccbb'"
      ]
     },
     "execution_count": 19,
     "metadata": {},
     "output_type": "execute_result"
    }
   ],
   "source": [
    "a_storylink = n[1][\"href\"]\n",
    "a_storylink"
   ]
  },
  {
   "cell_type": "code",
   "execution_count": 20,
   "metadata": {},
   "outputs": [],
   "source": [
    "ap_links = []\n",
    "for i in range(len(n)):\n",
    "    a_storylink = n[i][\"href\"]\n",
    "    ap_links.append(a_storylink)\n",
    "# ap_links"
   ]
  },
  {
   "cell_type": "code",
   "execution_count": 21,
   "metadata": {},
   "outputs": [],
   "source": [
    "list1 = []\n",
    "for i in range(1,len(ap_author)):\n",
    "    row = (ap_title[i],ap_tag[i],ap_author[i],ap_links[i],ap_time[i])\n",
    "    list1.append(row)\n",
    "# print(list1)"
   ]
  },
  {
   "cell_type": "code",
   "execution_count": 22,
   "metadata": {},
   "outputs": [],
   "source": [
    "import csv"
   ]
  },
  {
   "cell_type": "code",
   "execution_count": 23,
   "metadata": {},
   "outputs": [],
   "source": [
    "with open('apnews.csv','a',newline='') as f:\n",
    "    mywriter=csv.writer(f)\n",
    "    header = [\"Title\",\"Tag\",\"Author\",\"Storylink\",\"Time\"]\n",
    "    mywriter.writerow(header)\n",
    "    mywriter.writerows(list1)"
   ]
  },
  {
   "cell_type": "code",
   "execution_count": 24,
   "metadata": {},
   "outputs": [],
   "source": [
    "import pandas as pd"
   ]
  },
  {
   "cell_type": "code",
   "execution_count": 25,
   "metadata": {},
   "outputs": [
    {
     "data": {
      "text/plain": [
       "500"
      ]
     },
     "execution_count": 25,
     "metadata": {},
     "output_type": "execute_result"
    }
   ],
   "source": [
    "df = pd.read_csv('apnews.csv')\n",
    "len(df)"
   ]
  },
  {
   "cell_type": "code",
   "execution_count": 26,
   "metadata": {},
   "outputs": [
    {
     "data": {
      "text/plain": [
       "Title                                                              8\n",
       "Caravan migrants arrive in Mexico City, bed down in stadium        7\n",
       "USOC moves to shut down USA Gymnastics after Nassar scandal        7\n",
       "Amazon mum on reports it will split new headquarters               7\n",
       "Fox, NBC and Facebook turn down Trump ad deemed racist             7\n",
       "US election systems more secure, but voting problems persist       7\n",
       "Migrants straggle into Mexico City to shelter at stadium           7\n",
       "History, Trump and partisan bitterness collide in Georgia          7\n",
       "Toyota quarterly profit rises on growing sales, cost cuts          7\n",
       "Mariota recovers, Titans top Cowboys 28-14 in Cooper’s debut       7\n",
       "How ‘net neutrality’ became a hot-button issue                     7\n",
       "Pipe bomb suspect scheduled for Election Day court hearing         7\n",
       "Chinese ‘gait recognition’ tech IDs people by how they walk        7\n",
       "AP Top 25 Heat Check: Big gap between top and bottom half          7\n",
       "Senators players filmed trashing team, coach while in Uber         7\n",
       "Thunder win fifth straight, lose Westbrook to sprained ankle       7\n",
       "Democrat challenges GOP hold on Florida governor’s seat            7\n",
       "Bruce Springsteen, Seth Meyers headline veterans fundraiser        7\n",
       "People magazine names Idris Elba 2018′s Sexiest Man Alive          7\n",
       "Facebook blocks 115 accounts ahead of US midterm elections         5\n",
       "6 arrested in suspected plot to attack French leader Macron        5\n",
       "National voting system faces test on Election Day                  4\n",
       "Voters talk immigration, an ‘out-of-control’ Congress, Trump       4\n",
       "Nico Muhly scores with second commission from Met                  4\n",
       "In Texas, Ted Cruz squares off with rising star O’Rourke           4\n",
       "“In a sense, I am on the ticket,” Trump seeks voter support        4\n",
       "Fox’s Hannity speaks onstage at Trump campaign rally               4\n",
       "Asian economies grateful for reprieve on Iran oil imports          4\n",
       "Fighting grinds on in Yemen, rebels say halting Saudis             4\n",
       "Election Day to test Democratic resistance in Trump era            4\n",
       "                                                                  ..\n",
       "The Latest: Republican Hawley defeats Democrat McCaskill           1\n",
       "The Latest: Abrams vows to wait for all the votes in Georgia       1\n",
       "GOP, Democrats splitting governor’s races in key states            1\n",
       "How Trump’s energy, excesses drove GOP’s erratic campaign          1\n",
       "Australia to block Chinese $9 billion energy takeover bid          1\n",
       "Asian shares rise as US midterm elections yield mixed result       1\n",
       "Abrams, Kemp await more ballots in Georgia governor’s race         1\n",
       "Elton John remembers Aretha Franklin at his annual AIDS gala       1\n",
       "Out of many, several firsts elected across country                 1\n",
       "Trump frames midterms as ‘tremendous success’                      1\n",
       "Democratic House victory could echo from Moscow to Riyadh          1\n",
       "Pompeo meeting with North Korean envoy delayed                     1\n",
       "AP voter poll shows focus on Trump, immigration, health care       1\n",
       "Massachusetts voters protect transgender rights                    1\n",
       "Georgia’s Kemp big in small towns; Abrams awaits metro votes       1\n",
       "As much of America votes, some chose not to or couldn’t            1\n",
       "False explosives alarms halt trains in Madrid and Barcelona        1\n",
       "Fox News doesn’t condone Hannity appearance with Trump             1\n",
       "The Latest: Kremlin sees little chance of better US ties           1\n",
       "Spain and Russia agree to set up joint cybersecurity group         1\n",
       "Russia reports computer bug on International Space Station         1\n",
       "The Latest: GOP Rep. King wins 9th term in Iowa                    1\n",
       "Heads of World Bank, IMF say risks of trade tensions growing       1\n",
       "PHOTOS: America awaits the results of the 2018 midterm election    1\n",
       "China to overtake France as top travel destination by 2030         1\n",
       "China dismisses criticism about mass detentions at UN              1\n",
       "Clerk jailed over marriage licenses loses re-election bid          1\n",
       "Divisive Trump era ushers record number of women into House        1\n",
       "Woman tries to drive away with North Dakota squad car              1\n",
       "Massachusetts backs transgender rights; Michigan OKs pot use       1\n",
       "Name: Title, Length: 173, dtype: int64"
      ]
     },
     "execution_count": 26,
     "metadata": {},
     "output_type": "execute_result"
    }
   ],
   "source": [
    "df['Title'].value_counts()"
   ]
  },
  {
   "cell_type": "code",
   "execution_count": 27,
   "metadata": {},
   "outputs": [
    {
     "data": {
      "text/plain": [
       "243"
      ]
     },
     "execution_count": 27,
     "metadata": {},
     "output_type": "execute_result"
    }
   ],
   "source": [
    "dfc = df.drop_duplicates()\n",
    "len(dfc)"
   ]
  },
  {
   "cell_type": "code",
   "execution_count": 28,
   "metadata": {},
   "outputs": [
    {
     "data": {
      "text/plain": [
       "Toyota quarterly profit rises on growing sales, cost cuts       4\n",
       "Chinese ‘gait recognition’ tech IDs people by how they walk     3\n",
       "Fox, NBC and Facebook turn down Trump ad deemed racist          3\n",
       "AP Top 25 Heat Check: Big gap between top and bottom half       3\n",
       "6 arrested in suspected plot to attack French leader Macron     3\n",
       "History, Trump and partisan bitterness collide in Georgia       3\n",
       "Amazon mum on reports it will split new headquarters            3\n",
       "Democrat challenges GOP hold on Florida governor’s seat         3\n",
       "Bruce Springsteen, Seth Meyers headline veterans fundraiser     3\n",
       "Fox’s Hannity speaks onstage at Trump campaign rally            2\n",
       "How ‘net neutrality’ became a hot-button issue                  2\n",
       "Asian economies grateful for reprieve on Iran oil imports       2\n",
       "People magazine names Idris Elba 2018′s Sexiest Man Alive       2\n",
       "Migrants weigh whether to stay in Mexico, resume trek to US     2\n",
       "Blue wave or red tide? Americans are casting votes to decide    2\n",
       "PHOTOS: America votes on Election Day                           2\n",
       "GOP keeps Senate control for 2 more years, triumph for Trump    2\n",
       "National voting system faces test on Election Day               2\n",
       "Fighting grinds on in Yemen, rebels say halting Saudis          2\n",
       "Michigan up to 4th in CFP behind Alabama, Clemson, ND           2\n",
       "“In a sense, I am on the ticket,” Trump seeks voter support     2\n",
       "USOC moves to shut down USA Gymnastics after Nassar scandal     2\n",
       "With poo on a pedestal, Bill Gates talks toilet technology      2\n",
       "Blackhawks fire 3-time Stanley Cup-winning coach Quenneville    2\n",
       "Facebook admits not doing enough to prevent Myanmar violence    2\n",
       "Thunder win fifth straight, lose Westbrook to sprained ankle    2\n",
       "AP VoteCast: Trump a dominant force on voters’ minds            2\n",
       "Susan B. Anthony’s grave decorated with ‘I Voted’ stickers      2\n",
       "World markets turn lower as eyes turn to US midterm election    2\n",
       "China grants 18 trademarks in 2 months to Trump, daughter       2\n",
       "                                                               ..\n",
       "Fox’s MacCallum takes on new election-night role                1\n",
       "Path to power: House races to watch on election night           1\n",
       "The Latest: Election Day storms, wind, could affect turnout     1\n",
       "Georgia governor’s race roiled by election security charges     1\n",
       "Democrats appear close to taking back control of the House      1\n",
       "The Latest: Women elected to House in record numbers            1\n",
       "Aretha Franklin doc ‘Amazing Grace’ to finally see the light    1\n",
       "Election Day to test Democratic resistance in Trump era         1\n",
       "The Latest: Abrams vows to wait for all the votes in Georgia    1\n",
       "The Latest: Republican Hawley defeats Democrat McCaskill        1\n",
       "Djokovic back at No. 1; replaces Nadal, whose season is over    1\n",
       "AP Photos: Earthly protection for those seeking the divine      1\n",
       "The Latest: Trump pauses speech as woman gets medical help      1\n",
       "Trial for acclaimed theater director opens in Russia            1\n",
       "Heads of World Bank, IMF say risks of trade tensions growing    1\n",
       "Shaquille O’Neal, Ken Jeong team for reality TV comedy pilot    1\n",
       "Pompeo meeting with North Korean envoy delayed                  1\n",
       "Democratic House victory could echo from Moscow to Riyadh       1\n",
       "Trump frames midterms as ‘tremendous success’                   1\n",
       "Out of many, several firsts elected across country              1\n",
       "Elton John remembers Aretha Franklin at his annual AIDS gala    1\n",
       "Voting officials under scrutiny amid heavy election turnout     1\n",
       "Weinstein lawyers try again to get sex assault case tossed      1\n",
       "Abrams, Kemp await more ballots in Georgia governor’s race      1\n",
       "How Trump’s energy, excesses drove GOP’s erratic campaign       1\n",
       "Iowa winner claims huge Powerball jackpot                       1\n",
       "A recipe for rolls as good as any from a European bakery        1\n",
       "Democrats’ hopes high for taking House, but nothing certain     1\n",
       "GOP, Democrats splitting governor’s races in key states         1\n",
       "Voters head to the polls in a crucial midterm test for Trump    1\n",
       "Name: Title, Length: 173, dtype: int64"
      ]
     },
     "execution_count": 28,
     "metadata": {},
     "output_type": "execute_result"
    }
   ],
   "source": [
    "dfc['Title'].value_counts()"
   ]
  },
  {
   "cell_type": "code",
   "execution_count": 29,
   "metadata": {},
   "outputs": [
    {
     "data": {
      "text/html": [
       "<div>\n",
       "<style scoped>\n",
       "    .dataframe tbody tr th:only-of-type {\n",
       "        vertical-align: middle;\n",
       "    }\n",
       "\n",
       "    .dataframe tbody tr th {\n",
       "        vertical-align: top;\n",
       "    }\n",
       "\n",
       "    .dataframe thead th {\n",
       "        text-align: right;\n",
       "    }\n",
       "</style>\n",
       "<table border=\"1\" class=\"dataframe\">\n",
       "  <thead>\n",
       "    <tr style=\"text-align: right;\">\n",
       "      <th></th>\n",
       "      <th>Title</th>\n",
       "      <th>Tag</th>\n",
       "      <th>Author</th>\n",
       "      <th>Storylink</th>\n",
       "      <th>Time</th>\n",
       "    </tr>\n",
       "  </thead>\n",
       "  <tbody>\n",
       "    <tr>\n",
       "      <th>20</th>\n",
       "      <td>USOC moves to shut down USA Gymnastics after N...</td>\n",
       "      <td>apf-topnews</td>\n",
       "      <td>EDDIE PELLS</td>\n",
       "      <td>/c4439d6bef954882bf6fea10891c97aa</td>\n",
       "      <td>November 6, 2018</td>\n",
       "    </tr>\n",
       "    <tr>\n",
       "      <th>223</th>\n",
       "      <td>USOC moves to shut down USA Gymnastics after N...</td>\n",
       "      <td>BenjaminWatson</td>\n",
       "      <td>EDDIE PELLS</td>\n",
       "      <td>/f97150fd83714759ace40f9d2a2687e8</td>\n",
       "      <td>November 6, 2018</td>\n",
       "    </tr>\n",
       "  </tbody>\n",
       "</table>\n",
       "</div>"
      ],
      "text/plain": [
       "                                                 Title             Tag  \\\n",
       "20   USOC moves to shut down USA Gymnastics after N...     apf-topnews   \n",
       "223  USOC moves to shut down USA Gymnastics after N...  BenjaminWatson   \n",
       "\n",
       "           Author                          Storylink              Time  \n",
       "20    EDDIE PELLS  /c4439d6bef954882bf6fea10891c97aa  November 6, 2018  \n",
       "223   EDDIE PELLS  /f97150fd83714759ace40f9d2a2687e8  November 6, 2018  "
      ]
     },
     "execution_count": 29,
     "metadata": {},
     "output_type": "execute_result"
    }
   ],
   "source": [
    "dfc[dfc['Title'] == 'USOC moves to shut down USA Gymnastics after Nassar scandal']"
   ]
  },
  {
   "cell_type": "code",
   "execution_count": 30,
   "metadata": {},
   "outputs": [
    {
     "data": {
      "text/plain": [
       "173"
      ]
     },
     "execution_count": 30,
     "metadata": {},
     "output_type": "execute_result"
    }
   ],
   "source": [
    "dfc = dfc.drop_duplicates(subset='Title')\n",
    "len(dfc)"
   ]
  },
  {
   "cell_type": "code",
   "execution_count": 31,
   "metadata": {},
   "outputs": [
    {
     "data": {
      "text/plain": [
       "Massachusetts backs transgender rights; Michigan OKs pot use    1\n",
       "WHAT TO WATCH: After turbulent campaign, it’s up to voters      1\n",
       "False explosives alarms halt trains in Madrid and Barcelona     1\n",
       "Trump calls Fox’s Hannity onstage at campaign rally             1\n",
       "2 California death row inmates found dead; suicide suspected    1\n",
       "Injuries make impact sidelining NFL stars at halfway point      1\n",
       "The Latest: Kremlin sees little chance of better US ties        1\n",
       "More protection: UN says Earth’s ozone layer is healing         1\n",
       "Hannity joins Trump on stage despite claiming he wouldn’t       1\n",
       "Susan B. Anthony’s grave decorated with ‘I Voted’ stickers      1\n",
       "Thunder win fifth straight, lose Westbrook to sprained ankle    1\n",
       "History, Trump and partisan bitterness collide in Georgia       1\n",
       "Spain and Russia agree to set up joint cybersecurity group      1\n",
       "Russia reports computer bug on International Space Station      1\n",
       "The Latest: GOP Rep. King wins 9th term in Iowa                 1\n",
       "Facebook admits not doing enough to prevent Myanmar violence    1\n",
       "COOKING ON DEADLINE: Mushroom Cornbread Stuffing or Dressing    1\n",
       "Chinese ‘gait recognition’ tech IDs people by how they walk     1\n",
       "USOC moves to shut down USA Gymnastics after Nassar scandal     1\n",
       "China to overtake France as top travel destination by 2030      1\n",
       "Pecan pie with a smooth-textured filling and a nice crust       1\n",
       "Trump is all the talk among voters as Americans cast ballots    1\n",
       "Australia to block Chinese $9 billion energy takeover bid       1\n",
       "Djokovic back at No. 1; replaces Nadal, whose season is over    1\n",
       "China grants 18 trademarks in 2 months to Trump, daughter       1\n",
       "China grants Trump family 18 trademarks in 2 months             1\n",
       "Cuban dancers return to island that once spurned them           1\n",
       "Aretha Franklin doc ‘Amazing Grace’ to finally see the light    1\n",
       "Election Day to test Democratic resistance in Trump era         1\n",
       "Caravan migrants arrive in Mexico City, bed down in stadium     1\n",
       "                                                               ..\n",
       "AP VoteCast: Trump a dominant force on voters’ minds            1\n",
       "Turn smoked turkey and melty cheddar into an inspired lunch     1\n",
       "Bruce Springsteen, Seth Meyers headline veterans fundraiser     1\n",
       "Ride-share companies embrace election frenzy                    1\n",
       "Fox’s MacCallum takes on new election-night role                1\n",
       "Democrat challenges GOP hold on Florida governor’s seat         1\n",
       "Path to power: House races to watch on election night           1\n",
       "The Latest: Election Day storms, wind, could affect turnout     1\n",
       "PHOTOS: America votes on Election Day                           1\n",
       "Voting officials under scrutiny amid heavy election turnout     1\n",
       "Weinstein lawyers try again to get sex assault case tossed      1\n",
       "Abrams, Kemp await more ballots in Georgia governor’s race      1\n",
       "National voting system faces test on Election Day               1\n",
       "As much of America votes, some chose not to or couldn’t         1\n",
       "Georgia’s Kemp big in small towns; Abrams awaits metro votes    1\n",
       "With political future on line, Trump makes last midterm push    1\n",
       "TVA announces solar installations being built for Facebook      1\n",
       "No. 1 Kansas holds off No. 10 Michigan State 92-87 in opener    1\n",
       "Tusk defends actions as former PM at Poland’s pyramid probe     1\n",
       "Fox’s Hannity speaks onstage at Trump campaign rally            1\n",
       "Migrants weigh whether to stay in Mexico, resume trek to US     1\n",
       "People magazine names Idris Elba 2018′s Sexiest Man Alive       1\n",
       "Asian economies grateful for reprieve on Iran oil imports       1\n",
       "The Latest: Women elected to House in record numbers            1\n",
       "GOP, Democrats splitting governor’s races in key states         1\n",
       "Democrats’ hopes high for taking House, but nothing certain     1\n",
       "A recipe for rolls as good as any from a European bakery        1\n",
       "Iowa winner claims huge Powerball jackpot                       1\n",
       "How Trump’s energy, excesses drove GOP’s erratic campaign       1\n",
       "Voters head to the polls in a crucial midterm test for Trump    1\n",
       "Name: Title, Length: 173, dtype: int64"
      ]
     },
     "execution_count": 31,
     "metadata": {},
     "output_type": "execute_result"
    }
   ],
   "source": [
    "dfc['Title'].value_counts()"
   ]
  },
  {
   "cell_type": "code",
   "execution_count": null,
   "metadata": {},
   "outputs": [],
   "source": []
  }
 ],
 "metadata": {
  "kernelspec": {
   "display_name": "Python 3",
   "language": "python",
   "name": "python3"
  },
  "language_info": {
   "codemirror_mode": {
    "name": "ipython",
    "version": 3
   },
   "file_extension": ".py",
   "mimetype": "text/x-python",
   "name": "python",
   "nbconvert_exporter": "python",
   "pygments_lexer": "ipython3",
   "version": "3.7.0"
  }
 },
 "nbformat": 4,
 "nbformat_minor": 2
}
