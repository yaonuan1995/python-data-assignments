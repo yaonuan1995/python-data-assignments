{
 "cells": [
  {
   "cell_type": "code",
   "execution_count": 82,
   "metadata": {},
   "outputs": [],
   "source": [
    "f = open(\"trade-wars-news1.txt\",\"r+\")\n",
    "content1 = f.read()\n",
    "f.close()\n",
    "g = open(\"trade-wars-news2.txt\",\"r+\")\n",
    "content2 = g.read()\n",
    "g.close()\n",
    "h = open(\"trade-wars-news3.txt\",\"r+\")\n",
    "content3 = h.read()\n",
    "h.close()\n",
    "i = open(\"trade-wars-news4.txt\",\"r+\")\n",
    "content4 = i.read()\n",
    "i.close()\n",
    "j = open(\"trade-wars-news5.txt\",\"r+\")\n",
    "content5 = j.read()\n",
    "j.close()\n",
    "\n",
    "A = str.split(content1)\n",
    "B = str.split(content2)\n",
    "C = str.split(content3)\n",
    "D = str.split(content4)\n",
    "E = str.split(content5)\n",
    "\n",
    "all_words = A + B + C + D + E\n",
    "\n",
    "stop_words = [\"a\",\"the\",\"its\",\"not\",\"this\",\"be\",\"which\",\"are\",\"The\",\"and\",\"of\",\"an\",\"at\",\"in\",\"up\",\"by\",\"to\",\"so\",\"with\",\"off\",\"it\",\"is\",\"as\",\"on\",\"that\",\"have\",\"from\",\"for\",\"has\"]\n",
    "\n",
    "wordlist = list(all_words)\n",
    "# print(wordlist)\n",
    "for u in wordlist:\n",
    "    if u in stop_words: \n",
    "        wordlist.remove(u)\n",
    "# print(wordlist)\n",
    "\n"
   ]
  },
  {
   "cell_type": "code",
   "execution_count": 83,
   "metadata": {},
   "outputs": [
    {
     "name": "stdout",
     "output_type": "stream",
     "text": [
      "['the', 'China', 'a', 'trade', 'US', 'Chinese', 'Trump', 'war', 'would', 'China’s', 'tariffs', 'said', 'U.S.', 'also', 'more', 'will', 'about', 'American', 'against', 'last', 'was', 'Beijing', 'been', 'they', 'its', 'see', 'economic', 'an', 'new', 'if', 'In', 'I', 'but', 'he', 'deal', 'President', 'political', 'that', 'is', 'all', 'billion', 'out', 'could', 'China,', 'administration', 'it', 'not', 'than', 'who', 'can', 'had', 'most', 'Pence', 'China.', 'his', 'we', 'United', 'Soviet', 'America', 'to', '2018', 'going', 'while', '(link', 'how', 'economy', 'their', 'long', 'Canada', 'other', 'one', 'Beijing’s', 'between', 'or', 'two', 'over', 'global', 'Russia', 'America’s', 'which', 'Global', 'Times', 'my', 'first', 'willing', 'stock', 'because', 'foreign', 'including', 'This', 'then', 'countries', 'make', 'even', 'itself', 'any', 'Mike', 'per', 'cent', 'do', 'just', 'But', 'Russian', 'enemy', 'cosmopolitan', 'might', 'And', 'goods', 'state', 'no', 'become', 'common', 'after', 'wrote', 'US,', 'As', 'recent', 'pressure', 'Trade', 'domestic', 'talks', 'another', 'should', 'further', 'Zhong', 'Pompeo', 'there', 'into', 'Donald', 'such', 'conflict', 'midterm', 'Union', 'much', 'efforts', 'world', 'REIHAN', 'SALAM', 'conservatives', 'Putin', 'nationalist', 'speech', 'in', 'people', 'public', 'year,', 'both', 'put', '“The', 'show', 'Chinese)', 'That', 'next', 'point', 'central', 'user', 'himself', 'far', 'now', 'tariffs,', '“I', 'It', 'A', 'NAFTA', 'some', 'difficult', 'trade,', 'want', 'Mexico', 'agreement', 'wants', 'each', 'demands', 'Minister', 'US.', 'know', 'free', 'line', 'whether', 'advantage', 'Secretary', 'State', 'Foreign', 'Wang', 'were', 'tariff', 'change', 'technology', 'contain', 'market', 'country', 'business', 'Trump’s', 'take', 'European', 'those', 'talking', 'strategy', 'summit', '\"We', 'Japan', 'early', 'relationship', 'States', 'question', 'president', 'when', 'different', 'rising', 'our', 'part', 'threat', 'democracies', 'commitment', 'cannot', 'What', '9,', 'increasing', 'same', 'national', 'always', 'through', 'greater', 'state-run', 'doesn’t', 'people.', 'go', 'requirement', 'time', 'seen', 'war.', 'markets', 'many', 'officials', 'asked', 'year.', 'worried', 'While', 'need', 'It’s', 'Chinese).', 'oil', 'nuts', 'top', 'based', 'He', 'war,', 'up.', 'may', 'manufacturing', 'better', 'imports.', 'Mexico,', 'front', 'Americans', 'so-called', 'back', 'stance', 'tensions', 'taken', 'Monday,', 'exchange', 'told', 'must', 'Washington', 'intellectual', 'rights', '25', 'transfer', 'side', 'time,', 'accusations', 'attempting', 'elections.', 'warned', 'anytime', 'South', 'Union.', 'finance', 'chiefs', 'week.', 'If', 'Beijing,', 'chief', 'still', 'clear', 'campaign', 'potential', 'made', 'pain', 'elections', 'why', 'party-state', 'seeking', 'influence', 'outcome', 'democratic', 'world’s', 'orienting', 'Huntington', 'grand', 'creedal', 'identity', 'freedom', 'did', 'among', 'defines', 'cold', 'serves', 'act', 'power', 'open', 'Western', 'liberals', 'toward', 'especially', 'be', 'Cold', 'took', 'editorial', 'Hudson', 'has', 'messed', 'think', 'By', 'win', 'support', 'sides', 'goods.', 'imports,', 'done', 'worth', 'keep', 'strongest', 'spirit', 'run', 'opinion', 'deeply', 'without', 'comment', 'acknowledge', 'added', 'half', 'growth.', 'worrying', 'come.', 'yuan', 'On', 'Monday', 'day', 'fell', '(paywall)', 'three', 'tumble', 'bank', 'move', 'trying', 'boost', 'haven’t', '“This', 'year', 'Weibo,', 'working', 'firm', 'Beijing.', 'When', 'work', 'markets.', 'help', 'making', 'life', 'hundreds', 'thousands', 'hard', 'like', 'prices', 'suddenly', 'expensive', 'ran', 'she', 'found', 'cost', 'war,”', 'feel', 'imports', 'August.', 'environment', 'good.', 'there’s', 'real', 'won’t', 'before', 'can’t', 'businesses', 'hit', 'firms', '50', 'response', 'fact,', 'Agreement', 'argument', 'elements', 'key', 'growth', 'terms', 'wars', 'build', 'At', 'end', 'September,', '‘non-market-oriented', 'needs', 'knows', 'give', 'building', 'anti-China', 'gave', 'am', 'Japan,', 'highly', 'suggest', 'major', 'current', 'policies', 'instead', 'down', 'said,', 'keeps', 'down.', 'history', 'nation', 'times', 'never', 'rise', 'break', 'resolve', 'yet', 'following', 'month', 'strong', 'whose', 'Companies', 'consumers', 'best', 'testy', 'hurt', 'stop', 'de-escalate', 'punitive', 'property', 'role', 'state-owned', 'enterprises.', 'imposed', 'US$50', '10', 'set', 'does', 'threatened', 'Yi', 'technologies', 'reiterated', 'said.', 'progress', 'opening', 'beyond', 'relations', 'interfere', 'using', 'undermine', 'playbook', 'Bali,', '—', 'soon.', 'week,', 'given', 'hold', 'Korea,', 'him', 'impose', 'China,\"', 'senior', 'fellow', \"Trump's\", 'likely', 'damage', 'protracted', '\"The', 'stakes', 'International', 'deals', 'reach', 'again,', 'what', 'coalition', 'Europe', 'Paris', 'climate', 'reference', 'States.', 'approach', 'allies', 'address', 'economies', 'weakened', 'exports', 'mean', 'them', 'tariffs.', 'looms', 'government', 'ways', 'concerns', 'relies', 'less', 'already', 'How', 'For', 'part,', 'Robert', 'place,', 'you', 'Xi', 'Jinping', 'leaders', 'soon', 'appear', 'Is', 'consequences', 'Vice', 'wide-ranging', 'hostility', 'regimes', 'around', 'world.', 'Yet', 'outside', '“China', 'shift', 'administration’s', 'Pence,', 'politics', 'criticism', 'desperate', 'Against', 'All', 'upcoming', 'election', 'challenge', 'observers', 'Russia’s', 'seems', 'observed,', 'very', 'large', 'numbers', 'themselves', 'powers', 'once', 'shape.', 'collapse', 'defined', 'days', 'British', 'under', 'years', 'often', 'cohesion', 'find', 'divided', 'whom', 'supposed', 'so', 'understand', 'liberal', 'Europe,', '2016', 'forces', 'gay', '=', 'liberalism', 'defender', 'natural', 'ally', 'defend', 'invites', 'warier', 'populist', 'these', 'party-state,', 'exactly', 'doing', 'elite', 'sees', 'integration', 'choose', 'One', 'industrial', 'strategic', 'imagine', 'have', 'ordinary', 'stands', 'welcome', 'this', 'sacrifice', 'Which', 'Pence’s', 'Institute', 'compared', 'Churchill’s', 'authoritarian', 'calm', 'unique', 'delivered', 'Thucydides', 'reason', 'as', 'distract', 'Russiagate', '–', 'only', 'respect', '“Utterly', 'life”:', 'really', 'Guardian', 'Echo', 'HuangOctober', 'ardent', 'determination', 'like.', 'Since', 'entered', 'earnest', 'tit-for-tat', '$250', '$110', 'running', 'retaliation', 'going,', 'weapon', '“war', 'fate”', 'people,', 'according', 'media.', 'heroism', '‘being', 'concern', 'enjoy', 'oneself’', 'blood,', 'includes', '‘sacrificing', 'one’s', 'interest', 'good', \"public,'”\", 'piece', 'posted', 'People’s', 'Daily', 'July', '10.', '“Facing', '‘war', 'fate,’', 'aware', '‘there’s', 'home', 'country,’', 'bear', 'temporary', 'losses.”', 'painful', 'Economists', 'estimate', 'latest', '25%', 'shave', 'percentage', 'Online,', 'sharing', 'they’re', 'experiencing', 'impacts', 'far,', 'what’s', 'Stocks', 'tumble,', 'devalues', '(Oct.7),', 'Golden', 'Week', 'holiday,', 'stocks', 'sharply.', 'benchmark', 'Shanghai', 'Composite', 'Index', '3.7%—its', 'biggest', 'single-day', 'loss', 'months.', 'came', 'announced', 'cut', 'reserve', 'ratio', 'commercial', 'banks', 'fourth', 'year—a', 'liquidity', 'amid', 'general,', 'taking', 'stride.', 'tough', 'me.', 'received', 'payments', 'several', 'projects', 'bursts,”', 'social', 'media', 'platform', 'identified', 'securities', 'market’s', 'killed', 'projects.', 'returned', 'home,', 'village', 'me', 'how’s', 'My', 'answer,', 'sadly,', 'this—deleveraging,', 'bad', 'performance,', 'utterly', 'life.”', 'REUTERS/MARIANA', 'BAZO', 'Looking', 'devalued', 'many.', 'exporters', 'competitive,', 'makes', 'tougher', 'currency,', 'example', 'families', 'studying', 'abroad.', '“We', 'kneeling', 'RMB', '[renminbi]', 'stable', 'near', 'term.', 'Looks', 'Great', 'Depression', 'arrive,”', 'Weibo', 'Snacks,', 'Treats', 'due', 'daily', 'necessities.', 'yesterday', 'wanted', 'stock,”', 'female', 'northern', 'Hebei', 'province,', 'she’s', 'used', 'eating', 'every', 'day,', 'pecans,', 'commonly', 'sourced', 'her', 'more.', 'shop', 'owner,', '‘Why', 'time?’', 'owner', 'it’s', 'continued,', '“And', 'him,', '‘What’s', 'relationship?’', 'imported', 'lots', 'overseas.', 'impact', 'war.”', 'Maine', 'lobster,', 'forget', 'it.', 'drivers', 'feeling', 'pinch,', 'putting', '“I’ve', 'felt', 'peer-to-peer', 'lending', 'illegal', 'money-raising', 'crackdown,', 'bled', 'bunch', 'Now', 'drop', 'come', 'estate', 'market….', 'afford', 'car,”', 'Small', 'harder', 'larger', 'ones.', 'Caixin', 'Purchasing', 'Managers', 'Index,', 'gauge', 'sentiment', 'smaller,', 'private', 'official', 'PMI,', 'declined', '50.6', 'August', 'month,', 'lowest', 'level', 'number', 'below', 'indicates', 'contraction.', 'REUTERS', 'soybean', 'Pessimism', 'People', 'aren’t', 'optimistic', 'ease', 'North', 'Free', 'renegotiated', 'Canada—now', 'brand-new', 'acronym—shows', 'formation', 'online', 'commenters', 'noted.', '“Why', 'six', 'months?”', 'male', 'micro-blogging', 'site', 'southwestern', 'Sichuan', 'province.', 'His', 'driving', 'years—including', 'infrastructure,', 'demands—have', 'shown', 'signs.', '“In', 'worrying,”', 'wrote.', 'launching', 'worldwide', 'bypass', 'WTO', '[World', 'Organization]', 'something', 'new.', 'signed', 'cooperation', 'agreement.', 'economy‘', 'enter', 'market,', 'approval', 'countries…', 'Everyone', 'economy’', 'is.”', '(The', 'asks', 'notify', '“non-market”', 'economy,', 'say', 'deal.)', '“Americans', 'circle.', 'round,', 'in,', 'Canada.', 'afraid', 'third', 'round', 'Europe,”', 'adjustments', 'listening', 'opinions', 'elites.”', 'US:', 'commerce', 'minister', 'SCMP', 'Amanda', 'Lee', 'cave', 'faces', 'exports,', 'Commerce', 'Shan', 'signalling', 'uncompromising', 'dealing', '“There', 'view', 'They', 'don’t', 'culture', 'China,”', 'statement', 'published', 'Bloomberg', 'News.', 'unyielding', 'suffered', 'bullying', 'history,', 'succumbed', 'conditions.', 'out.', 'underestimate', 'will.”', 'release', 'white', 'paper', 'detailing', 'blamed', 'creating', 'painted', 'promoter', 'trade.', 'comments', 'Zhong,', 'ministry', 'possible', 'coincide', 'rapid', 'deterioration', 'ties', 'Washington.', 'ofCHINA’S', 'COMMERCE', 'MINISTER', 'ZHONG', 'SHAN', 'Pompeo,', 'brief', 'visit', 'Yi.', '“mutual', 'trust”', '“misguided', 'actions”', '“fundamental', 'disagreements”', 'powers.', 'Prospects', 'bright.', 'locked', 'horns', 'levying', 'gaping', 'differences', 'slew', 'issues', 'initially', 'September', 'additional', 'US$200', 'products,', 'rate', 'January', '1', 'concessions.', 'pump', 'US$110', 'intensifies', 'extend', 'retaliated', 'variable', '5', 'US$60', '(left)', 'Photo:', 'AP', 'demanding', 'practices', 'forcing', 'subsidising', 'steal', 'firms.', 'emphasise', 'laws', 'regulations', 'companies’', 'purchases', 'patents', 'pure', 'behaviour,”', '“China’s', 'development,', 'science', 'technological', 'owed', 'reform', 'endeavours', 'people.”', 'turns', 'heat', 'moves', 'battlefronts', 'argued', '“took', 'US”', 'record', 'surplus', 'US$31.05', '“If', 'continued?', 'of,”', 'gone', 'congressional', 'Vice-President', 'stepped', 'attack', 'condemning', '“every', 'tool', 'disposal”', 'system.', 'companies,', 'tech', 'giant', 'Alphabet,', 'owns', 'Google,', 'disengage', 'rips', 'Donna', 'Borak,', 'CNN', 'Updated', '1037', 'GMT', '(1837', 'HKT)', 'October', 'Indonesia', '(CNN)President', 'After', 'announcing', 'revamped', 'reeled', 'list', 'deal:', 'scoffed', '\"babies', 'there\"', 'effects', 'suggesting', '\"we', \"wouldn't\", 'deal\"', 'confrontational', 'approach.', 'IMF', 'warns', '\"That\\'s', 'embolden', 'threaten', 'hopes', 'getting', 'Edward', 'Alden,', 'Council', 'Relations.', 'no-holds-barred', 'center', 'stage', 'week', 'bankers', 'Indonesia.', \"it'll\", 'Treasury', 'Steven', 'Mnuchin,', \"president's\", 'envoy,', 'argue', 'case', 'warnings', 'intensify', 'high,\"', 'Christine', 'Lagarde,', 'managing', 'director', 'Monetary', 'Fund,', 'together', 'disputes.\"', \"'Coalition\", \"willing'\", 'get', \"that's\", 'strengthen', 'negotiating', 'position', 'argue.', '01:58', 'moving', 'characterized', 'confront', 'Larry', 'Kudlow,', 'adviser,', 'stages.', 'French', 'Emmanuel', 'Macron', \"shouldn't\", 'sign', \"doesn't\", 'comply', 'change,', \"administration's\", 'old', 'collaboratively', 'mutual', 'concerns.', 'Other', 'big', 'share', 'main', 'grievances', 'theft', 'companies', 'hand', 'partners.', 'slapped', 'stepping', 'analysts', 'united', 'front.', 'China&#39;s', 'annual', 'Souring', \"he's\", 'rush', 'restart', 'Instead,', 'bigger', 'wave', '$267', 'products.', 'measures', 'effectively', 'cover', 'sells', '\"I\\'m', 'negotiate,\"', '\"And', 'hopefully,', 'great', 'fair', 'reciprocal', 'deal.\"', 'Details', 'revised', 'pact', 'replace', 'NAFTA,', 'amplify', 'Tucked', 'inform', 'others', 'start', 'negotiations', '\"non-market', 'economy,\"', 'able', 'review', 'upset', 'souring', 'superpowers.', 'frank', 'views', 'immediately', '\"wrong', 'remarks', 'actions,\"', 'responded', '\"fundamental', 'disagreement\"', '\"great', 'actions', 'taken.\"', \"'How\", \"endure?'\", 'Neither', 'showing', 'signs', 'backing', 'States,', \"China's,\", 'faring', 'far.', \"China's\", 'started', 'slowing', 'currency', 'slumped', 'escalated.', 'pumping', 'cash', 'heats', 'is:', 'endure?\"', 'Thomas', 'Bernes,', 'distinguished', 'Centre', 'Governance', 'Innovation.', '\"They', 'looking', 'rejection', 'Trumpism', 'gains', 'strength', 'remains', 'power.\"', 'appears', 'maintain', 'can.', 'changed', 'paradigm,\"', 'Representative', 'Lighthizer', 'month.', 'let', 'along', 'forced', 'property.\"', 'expected', 'meet', 'Group', '20', 'Buenos', 'Aires', 'November.', 'unwilling', 'ground', 'fundamental', 'parts', 'policy,', 'prospects', 'reaching', 'slim.', '\"It', 'escalation', 'avoided,\"', 'Andrew', 'Hunter,', 'economist', 'research', 'Capital', 'Economics', 'note', 'clients', 'Defining', 'Rival?', 'debate', 'policy—it', 'define', 'decades', 'affairs', 'well.', 'OCT', 'Late', 'class', 'transfixed', 'denouement', 'Kavanaugh', 'confirmation', 'battle,', 'committed', 'opposing', 'expansionist', 'designs.', 'familiar', 'litany', 'complaints', 'coerce', 'neighbors', 'western', 'Pacific,', 'abuses,', 'religious', 'freedom,', 'unsavory', 'halfway', 'remarks,', 'vice', 'shifted', 'emphasis,', 'turning', 'various', 'acting', 'borders', 'cultural', 'inside', 'them.', 'Specifically,', 'president,”', 'mobilizing', '“covert', 'actors,', 'groups,', 'propaganda', 'outlets', 'Americans’', 'perception', 'policies”', 'end.', 'now,', 'routine', 'heads', 'multinationals', 'condemn', 'policies,', 'fact', 'they’d', 'perfectly', 'understandable.', 'violent', 'labor', 'repression', 'policy', 'subsidizing', 'industrialists', 'expense', 'households', 'proved', 'advantageous', 'disciplined', 'relatively', 'low-cost', 'workforce,', 'regardless', 'citizenship.', 'According', 'however,', 'layer', 'namely', 'threatening', 'punish', 'fail', 'denounce', 'pointed', 'sophistication', 'exploits', 'cleavages,', 'evidenced', 'targeting', 'retaliatory', 'regions', 'industries', 'believed', 'crucial', 'elections,', 'shrewd', 'silence', 'university', 'campuses', 'money.', 'MORE', 'BY', 'Students', 'walk', 'law', 'school', 'University', 'Michigan', 'Elite', 'Law', 'Schools', 'Turn', 'Conservatism', 'Can', 'Strike', 'Back', 'Deep', 'Better', 'Way', 'Absorb', 'Refugees', 'Senator', 'Elizabeth', 'Warren', 'speaks', 'event', 'introduce', 'Medicare', 'Act', '2017.', '‘Medicare', 'All’', 'Fantasy', 'keeping', 'blunt', 'insistence', '“we’ve', 'coming', 'November', 'administration,”', 'and,', 'pointedly,', '“they', 'me—or', 'us—to', 'ever', 'trade.”', 'implicit', 'raised', 'this:', 'Should', 'meddling', 'meddling?', 'Some', 'dismissed', 'idea,', 'warning', 'represents', 'distraction', 'ongoing', 'meddling.', 'Others', 'outcomes', 'character', 'approach,', '“ineffective', 'counterproductive,”', 'that,', 'Rush', 'Doshi', 'D.', 'Williams', 'Brookings', 'Institution', 'cautiously', 'pursued', 'informational', 'countries,', 'States.”', 'Needless', 'say,', 'dangerous', 'rivals,', 'certainly', 'do.', 'age', 'intensifying', 'partisan', 'enmity,', 'legitimacy', 'presidency', 'similarly', 'champion,', 'fitting', 'Democrats', 'Republicans', 'bring', 'agree', 'revanchist', 'ought', 'serve', 'call', 'or,', 'Harvard', 'scientist', 'Samuel', 'P.', 'it,', '“other”', 'gives', 'ideological', '1997,', 'bloc,', 'losing', 'coherence', 'opposition', '“other.”', 'republic,', 'Britain', 'offered', 'necessary', 'contrast:', 'lived', 'tyranny', 'hierarchy,', 'themselves,', 'enjoyed', 'equality.', 'So,', 'too,', 'later', 'Wilhelmine', 'Germany', 'provide', 'rivalry,', 'Nazi', 'totalitarianisms', 'ravaged', '20th', 'century.', 'Union’s', 'demise', 'therefore', 'prompted', 'kind', 'crisis.', '“While', 'divisive', 'effect', 'society,”', 'Huntington,', '“a', 'promote', 'weakening', 'absence', 'reverse.”', 'quite', 'anticipate', 'identities—one', 'right,', 'left—each', 'enemy.', 'pattern', 'obtained', 'earlier', 'eras.', 'Consider', 'founding', 'generation', 'bitterly', 'Revolutionary', 'France', 'Empire', 'represented', 'liberty.', '1900s', 'saw', 'debates', 'Germanophiles,', 'progressives', 'socialists', 'German', 'extraction,', 'Anglophiles', 'embraced', 'idea', 'order', 'jointly', 'administered', 'British-American', 'condominium.', 'difference', 'twilight', 'leadership,', 'clashes', 'reverberate', 'finds', 'midst', 'wars.', 'To', 'liberals,', 'geopolitical', 'adversary.', 'Even', 'impoverished', 'state,', 'fear', 'deftness', 'operatives', 'connivance', 'illiberal', 'diverse', 'within.', 'Nationalist', 'graver', 'interests,', 'increasingly', 'wielding', 'resist', 'counter', 'depredations,', 'despite', 'well', 'result.', 'imagination.', 'There', 'little', 'doubt', 'sought', 'sow', 'chaos', 'division', 'conviction', 'throughout', 'post-Soviet', 'Eurasia.', 'Though', 'extent', 'information', 'operations', 'influenced', 'presidential', 'contested,', 'notion', 'played', 'decisive', 'article', 'faith', 'critics,', 'Vladimir', 'perfect', 'foil.', 'ascendancy', 'by,', 'rank', 'kleptocracy,', 'explicit', 'deranged', 'antiliberalism,', 'enemies', 'feminism.', 'author', 'Timothy', 'Snyder', 'argued,', 'Putinism’s', 'crusade', 'designed', '“to', 'transform', 'democracy', 'nebulous', 'innocence:', 'voting', 'west', 'sodomy.”', 'defining', 'sexual', 'perversion,', 'own', 'regime', 'masculinity', 'traditionalism,', 'sovereignty', 'conspiracy', 'dissolve', 'family.', 'short,', 'rule', 'enemy,', 'right-wing', 'populists', 'friend.', 'An', 'Putin’s', 'redouble', 'liberalism,', 'multilateral,', 'nondiscriminatory', 'basis,', 'marginalizing', 'conservatism', 'retrograde.', 'nato', 'shored', 'up,', 'good,', 'adopt', 'attitude', 'parties', 'Central', 'Eastern', 'drift', 'orbit.', 'wouldn’t', 'friend,', 'light', 'civil', 'liberties,', 'Communist', 'Party’s', 'stated', 'combating', 'antitrade', 'politicians', 'lend', 'certain', 'prestige', 'legitimacy.', 'Shortly', 'inauguration,', 'presented', 'rules-based', 'international', 'order,', 'agreement,', 'Joint', 'Comprehensive', 'Plan', 'Action', 'Iran,', 'won', 'admirers', 'circles,', 'unaware', 'imprisonment', 'Uighur', 'Muslims', 'crimes.', 'Over', 'rooted', 'grow', 'power,', 'explicitly', 'cater', 'cosmopolitan-liberal', 'sensibilities,', 'likely.', 'irreversible,', 'upper', 'hand.', '“other,”', 'it?', 'indication', 'comes', 'report', 'Department', 'Defense,', 'details', 'growing', 'dependence', 'base,', 'poses', 'country’s', 'war-fighting', 'capabilities.', '1990s', '2000s,', 'indictment', 'statism,', 'unambiguous', 'Many', 'cause', 'rethink', 'laissez-faire,', 'eye', 'meeting', 'posed', 'ambitions.', 'Moscow,', 'No.', '1,', 'vital', 'investment', 'infrastructure', 'human', 'capital,', 'steer', 'resilient', 'supply', 'chains', 'Americas,', 'heartland.', 'rival,', 'suspect,', 'lens:', 'clearer', 'exits', 'scene.', 'Culturally,', 'choosing', 'ambiguous', 'effects.', 'xenophobic', 'turn', 'immigrants,', 'visitors,', 'students,', 'ugly', 'consequences.', 'embrace', 'grounds', 'authoritarianism', 'narrow', 'workers.', 'argument,', 'essence,', 'whole,', 'inclusive', 'government.', 'Indeed,', 'address.', 'More', 'broadly,', 'waging', 'place', 'somewhat', 'emphasis', 'solidarity', 'cosmopolitanism,', 'least', 'disentangling', 'entail', 'considerable', 'elite—a', 'justified', 'solidaristic', 'terms.', 'come?', 'wage', 'assiduously?', 'answer', 'depend', 'small', 'guide,', 'high,', 'enduring.', 'Media', 'Vow', 'Fight', '‘Insult’', 'Threaten', '‘Cold', 'War’', '8', 'Oct', 'vowed', 'weekend', 'fight', '“insults”', 'promised', '“new', 'War”', 'issue', 'continuing', 'produce', '“hostile', 'reports', 'speeches.”', 'passive-aggressive', 'Sunday,', 'beginning', 'Thursday', 'citing', 'Sir', 'Winston', '“Iron', 'Curtain”', 'dawn', 'War.', 'mellowed', 'reflection', 'high', 'points', 'Richard', 'Nixon’s', 'credit', 'helping', 'Ronald', 'Reagan', 'business.', 'standard', 'soft,', 'chance', 'positioned', 'mature', 'player', 'realized', 'win:', 'limited', 'leverage', 'inevitably', 'stupid', 'choice.', 'unrealistic', 'establish', 'NATO-style', 'organization', 'target', 'impossible', 'isolate', 'expanding', 'overseas', 'White', 'House', 'Congress', 'mobilize', 'society.', 'Gone', 'plunge', 'interest.', 'face', 'hysterical', 'elites,', 'War', 'play', 'tai', 'chi', 'wisdom', 'nation.', 'We', 'allow', 'unscrupulously', 'Sea', 'Taiwan', 'Straits.', 'way.', 'continue', 'deteriorating', 'that.', 'became', 'mantra', 'blinding', 'speed', 'Iron', 'Curtain', 'speech.', 'pronounced', 'confused', '“stinging”', 'Institute,', 'filled', '“vitriolic,', 'ruthless,', 'considered', 'decorous.”', 'second', 'invoked', '“Thucydides', 'Trap,”', 'politicians.', 'Trap', 'theory', 'posits', 'ruling', 'almost', 'powers,', 'usually', 'regret', 'nations,', 'unless', 'extraordinary', 'avoid', 'conflict.', 'interpretation', 'responsibility', 'superpower', 'refrain', 'protecting', 'dominance', '“contain”', 'concerned,', 'everything', 'possibly', 'ameliorate', 'aging', 'hegemon,', 'decided', '“U-turn”', 'urging', '“hardliners”', 'commence', 'defended', 'ad', 'Des', 'Moines', 'Register', 'widely', 'complaint', 'interference', '“Where', 'U.S.’', 'long-hailed', 'press?”', 'newspaper', 'aggressive', 'risibly', 'asked.', 'similar', 'vein,', 'portrayed', 'merely', '“U.S.-initiated', 'manipulating', 'stealing', 'decades.', 'concluded', 'beating', 'goose', 'Republican', 'turnout', 'for', '“the', 'scandal”:', 'deliberately', 'chose', 'timing', 'China-US', 'ratcheting', 'up', 'deliver', 'inflammatory', 'playing', 'card', 'safest', 'option.', 'divert', 'attention', 'scandal', 'incite', 'voters.', 'These', 'unfounded', 'understanding', 'judgment', 'Sino-US', 'unprofessional,', 'shallow', 'indiscreet,', 'worrying.', 'worsening', 'atmosphere', 'affects', 'public’', 'endangers', 'safety', 'interests', 'leader', 'of', 'accuses', 'at', 'will,', 'justify', 'reputation', 'improve', 'bilateral', 'ties?', 'Perhaps', 'requesting', 'left', 'receptive', 'theories', 'on', 'appeals', 'xenophobia', 'and', 'investigation', '“Russian', 'collusion”', 'election.']\n"
     ]
    }
   ],
   "source": [
    "all_worddict = {}\n",
    "for i in range(0,len(wordlist)):\n",
    "    wordcount = wordlist.count(wordlist[i])\n",
    "    worddict = {wordlist[i]: wordcount}\n",
    "    all_worddict.update(worddict)\n",
    "# print(all_worddict)\n",
    "ranklist = sorted(all_worddict,key=all_worddict.get,reverse=True)\n",
    "print(ranklist)\n",
    "\n",
    "\n"
   ]
  },
  {
   "cell_type": "code",
   "execution_count": 84,
   "metadata": {},
   "outputs": [
    {
     "name": "stdout",
     "output_type": "stream",
     "text": [
      "['keyword', 'the', 'China', 'a', 'trade', 'US', 'Chinese', 'Trump', 'war', 'would', 'China’s', 'tariffs', 'said', 'U.S.', 'also']\n",
      "['prequency', 176, 51, 48, 47, 47, 44, 28, 23, 22, 19, 16, 16, 16, 15]\n"
     ]
    }
   ],
   "source": [
    "list1 = ['keyword']\n",
    "list2 = ['prequency']\n",
    "for s in range(0,14):\n",
    "    m = ranklist[s]\n",
    "#     print(m,all_worddict.get(m)) \n",
    "    list1.append(m)\n",
    "    list2.append(all_worddict.get(m))\n",
    "print(list1)\n",
    "print(list2)"
   ]
  },
  {
   "cell_type": "code",
   "execution_count": 85,
   "metadata": {},
   "outputs": [
    {
     "name": "stdout",
     "output_type": "stream",
     "text": [
      "[('keyword', 'prequency'), ('the', 176), ('China', 51), ('a', 48), ('trade', 47), ('US', 47), ('Chinese', 44), ('Trump', 28), ('war', 23), ('would', 22), ('China’s', 19), ('tariffs', 16), ('said', 16), ('U.S.', 16), ('also', 15)]\n"
     ]
    }
   ],
   "source": [
    "list3 = []\n",
    "for o in range(0,15):\n",
    "    row = (list1[o],list2[o])\n",
    "    list3.append(row)\n",
    "print(list3)"
   ]
  },
  {
   "cell_type": "code",
   "execution_count": 86,
   "metadata": {},
   "outputs": [],
   "source": [
    "import csv"
   ]
  },
  {
   "cell_type": "code",
   "execution_count": 87,
   "metadata": {},
   "outputs": [],
   "source": [
    "with open('keywords.csv','w') as f:\n",
    "    mywriter=csv.writer(f)\n",
    "    mywriter.writerows(list3)\n",
    "#     mywriter.writerows([[number] for number in list2])"
   ]
  },
  {
   "cell_type": "code",
   "execution_count": null,
   "metadata": {},
   "outputs": [],
   "source": []
  }
 ],
 "metadata": {
  "kernelspec": {
   "display_name": "Python 3",
   "language": "python",
   "name": "python3"
  },
  "language_info": {
   "codemirror_mode": {
    "name": "ipython",
    "version": 3
   },
   "file_extension": ".py",
   "mimetype": "text/x-python",
   "name": "python",
   "nbconvert_exporter": "python",
   "pygments_lexer": "ipython3",
   "version": "3.7.0"
  }
 },
 "nbformat": 4,
 "nbformat_minor": 2
}
