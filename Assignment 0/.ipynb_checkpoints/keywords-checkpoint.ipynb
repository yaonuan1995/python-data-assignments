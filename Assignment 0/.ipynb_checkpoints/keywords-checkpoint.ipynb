{
 "cells": [
  {
   "cell_type": "code",
   "execution_count": 9,
   "metadata": {},
   "outputs": [],
   "source": [
    "f = open(\"trade-wars-news1.txt\",\"r+\")\n",
    "content1 = f.read()\n",
    "f.close()\n",
    "g = open(\"trade-wars-news2.txt\",\"r+\")\n",
    "content2 = g.read()\n",
    "g.close()\n",
    "h = open(\"trade-wars-news3.txt\",\"r+\")\n",
    "content3 = h.read()\n",
    "h.close()\n",
    "i = open(\"trade-wars-news4.txt\",\"r+\")\n",
    "content4 = i.read()\n",
    "i.close()\n",
    "j = open(\"trade-wars-news5.txt\",\"r+\")\n",
    "content5 = j.read()\n",
    "j.close()\n",
    "\n",
    "A = str.split(content1)\n",
    "B = str.split(content2)\n",
    "C = str.split(content3)\n",
    "D = str.split(content4)\n",
    "E = str.split(content5)\n",
    "\n",
    "all_words = A + B + C + D + E\n",
    "wordlist = list(all_words)\n",
    "stop_words = [\"a\",\"the\",\"its\",\"not\",\"this\",\"be\",\"which\",\"are\",\"The\",\"and\",\"of\",\"an\",\"at\",\"in\",\"up\",\"by\",\"to\",\"so\",\"with\",\"off\",\"it\",\"is\",\"as\",\"on\",\"that\",\"have\",\"from\",\"for\",\"has\"]\n",
    "# print(wordlist)\n",
    "for u in range(0,len(stop_words)):\n",
    "    while stop_words[u] in wordlist:\n",
    "        wordlist.remove(stop_words[u])"
   ]
  },
  {
   "cell_type": "code",
   "execution_count": 10,
   "metadata": {},
   "outputs": [],
   "source": [
    "all_worddict = {}\n",
    "for i in range(0,len(wordlist)):\n",
    "    wordcount = wordlist.count(wordlist[i])\n",
    "    worddict = {wordlist[i]: wordcount}\n",
    "    all_worddict.update(worddict)"
   ]
  },
  {
   "cell_type": "code",
   "execution_count": 11,
   "metadata": {},
   "outputs": [],
   "source": [
    "ranklist = sorted(all_worddict,key=all_worddict.get,reverse=True)\n",
    "# ranklist"
   ]
  },
  {
   "cell_type": "code",
   "execution_count": 12,
   "metadata": {},
   "outputs": [
    {
     "name": "stdout",
     "output_type": "stream",
     "text": [
      "['keyword', 'China', 'trade', 'US', 'Chinese', 'Trump', 'war', 'would', 'China’s', 'tariffs', 'said', 'U.S.', 'also', 'more', 'will']\n",
      "['frequency', 51, 47, 47, 44, 28, 23, 22, 19, 16, 16, 16, 15, 15, 15]\n"
     ]
    }
   ],
   "source": [
    "list1 = ['keyword']\n",
    "list2 = ['frequency']\n",
    "for s in range(0,14):\n",
    "    m = ranklist[s]\n",
    "#     print(m,all_worddict.get(m)) \n",
    "    list1.append(m)\n",
    "    list2.append(all_worddict.get(m))\n",
    "print(list1)\n",
    "print(list2)"
   ]
  },
  {
   "cell_type": "code",
   "execution_count": 13,
   "metadata": {},
   "outputs": [
    {
     "name": "stdout",
     "output_type": "stream",
     "text": [
      "[('keyword', 'frequency'), ('China', 51), ('trade', 47), ('US', 47), ('Chinese', 44), ('Trump', 28), ('war', 23), ('would', 22), ('China’s', 19), ('tariffs', 16), ('said', 16), ('U.S.', 16), ('also', 15), ('more', 15), ('will', 15)]\n"
     ]
    }
   ],
   "source": [
    "list3 = []\n",
    "for o in range(0,15):\n",
    "    row = (list1[o],list2[o])\n",
    "    list3.append(row)\n",
    "print(list3)"
   ]
  },
  {
   "cell_type": "code",
   "execution_count": 14,
   "metadata": {},
   "outputs": [],
   "source": [
    "import csv"
   ]
  },
  {
   "cell_type": "code",
   "execution_count": 15,
   "metadata": {},
   "outputs": [],
   "source": [
    "with open('keywords.csv','w') as f:\n",
    "    mywriter=csv.writer(f)\n",
    "    mywriter.writerows(list3)"
   ]
  },
  {
   "cell_type": "code",
   "execution_count": null,
   "metadata": {},
   "outputs": [],
   "source": []
  }
 ],
 "metadata": {
  "kernelspec": {
   "display_name": "Python 3",
   "language": "python",
   "name": "python3"
  },
  "language_info": {
   "codemirror_mode": {
    "name": "ipython",
    "version": 3
   },
   "file_extension": ".py",
   "mimetype": "text/x-python",
   "name": "python",
   "nbconvert_exporter": "python",
   "pygments_lexer": "ipython3",
   "version": "3.7.0"
  }
 },
 "nbformat": 4,
 "nbformat_minor": 2
}
